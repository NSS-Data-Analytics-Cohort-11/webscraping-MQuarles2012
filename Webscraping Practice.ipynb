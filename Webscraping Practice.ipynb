{
 "cells": [
  {
   "cell_type": "markdown",
   "id": "1fe9cc94",
   "metadata": {},
   "source": [
    "## Webscraping\n",
    "\n",
    "In this exercise, you'll practice using BeautifulSoup to parse the content of a web page. The page that you'll be scraping, https://realpython.github.io/fake-jobs/, contains job listings. Your job is to extract the data on each job and convert into a pandas DataFrame.\n",
    "\n",
    "To retrieve the contents of a website, we will be using bthe [_requests_](https://requests.readthedocs.io/en/master/) library."
   ]
  },
  {
   "cell_type": "code",
   "execution_count": 1,
   "id": "8c7b409a",
   "metadata": {},
   "outputs": [],
   "source": [
    "#Import the requests library.\n",
    "import requests\n",
    "\n",
    "#Import beautiful soup, so we can prettify the text of the website\n",
    "from bs4 import BeautifulSoup as BS"
   ]
  },
  {
   "cell_type": "markdown",
   "id": "db8d7a8e",
   "metadata": {},
   "source": [
    "1. Start by performing a GET request on the url above and convert the response into a BeautifulSoup object.  "
   ]
  },
  {
   "cell_type": "code",
   "execution_count": 2,
   "id": "327be1c8",
   "metadata": {},
   "outputs": [],
   "source": [
    "URL = 'https://realpython.github.io/fake-jobs/'\n",
    "\n",
    "response = requests.get(URL)"
   ]
  },
  {
   "cell_type": "markdown",
   "id": "2c283a71",
   "metadata": {},
   "source": [
    "a. Use the .find method to find the tag containing the first job title (\"Senior Python Developer\"). Hint: can you find a tag type and/or a class that could be helpful for extracting this information? Extract the text from this title"
   ]
  },
  {
   "cell_type": "code",
   "execution_count": 3,
   "id": "8bf58344",
   "metadata": {},
   "outputs": [],
   "source": [
    "#Before we can use .find, we need to use an HTML parser to make it more readable\n",
    "soup = BS(response.text)"
   ]
  },
  {
   "cell_type": "code",
   "execution_count": 4,
   "id": "112596fc",
   "metadata": {},
   "outputs": [],
   "source": [
    "#print(soup.prettify())"
   ]
  },
  {
   "cell_type": "code",
   "execution_count": 5,
   "id": "ef2207e5",
   "metadata": {
    "scrolled": true
   },
   "outputs": [
    {
     "data": {
      "text/plain": [
       "'Senior Python Developer'"
      ]
     },
     "execution_count": 5,
     "metadata": {},
     "output_type": "execute_result"
    }
   ],
   "source": [
    "#To find just the first job title:\n",
    "soup.find('h2').text"
   ]
  },
  {
   "cell_type": "markdown",
   "id": "f5adba35",
   "metadata": {},
   "source": [
    "b. Now, use what you did for the first title, but extract the job title for all jobs on this page. Store the results in a list. "
   ]
  },
  {
   "cell_type": "code",
   "execution_count": 6,
   "id": "f66e62f7",
   "metadata": {},
   "outputs": [],
   "source": [
    "#To find all job titles:\n",
    "all_jobs = soup.findAll('h2')"
   ]
  },
  {
   "cell_type": "code",
   "execution_count": 18,
   "id": "052197e4",
   "metadata": {},
   "outputs": [
    {
     "name": "stdout",
     "output_type": "stream",
     "text": [
      "['Senior Python Developer', 'Energy engineer', 'Legal executive', 'Fitness centre manager', 'Product manager', 'Medical technical officer', 'Physiological scientist', 'Textile designer', 'Television floor manager', 'Waste management officer', 'Software Engineer (Python)', 'Interpreter', 'Architect', 'Meteorologist', 'Audiological scientist', 'English as a second language teacher', 'Surgeon', 'Equities trader', 'Newspaper journalist', 'Materials engineer', 'Python Programmer (Entry-Level)', 'Product/process development scientist', 'Scientist, research (maths)', 'Ecologist', 'Materials engineer', 'Historic buildings inspector/conservation officer', 'Data scientist', 'Psychiatrist', 'Structural engineer', 'Immigration officer', 'Python Programmer (Entry-Level)', 'Neurosurgeon', 'Broadcast engineer', 'Make', 'Nurse, adult', 'Air broker', 'Editor, film/video', 'Production assistant, radio', 'Engineer, communications', 'Sales executive', 'Software Developer (Python)', 'Futures trader', 'Tour manager', 'Cytogeneticist', 'Designer, multimedia', 'Trade union research officer', 'Chemist, analytical', 'Programmer, multimedia', 'Engineer, broadcasting (operations)', 'Teacher, primary school', 'Python Developer', 'Manufacturing systems engineer', 'Producer, television/film/video', 'Scientist, forensic', 'Bonds trader', 'Editorial assistant', 'Photographer', 'Retail banker', 'Jewellery designer', 'Ophthalmologist', 'Back-End Web Developer (Python, Django)', 'Licensed conveyancer', 'Futures trader', 'Counselling psychologist', 'Insurance underwriter', 'Engineer, automotive', 'Producer, radio', 'Dispensing optician', 'Designer, fashion/clothing', 'Chartered loss adjuster', 'Back-End Web Developer (Python, Django)', 'Forest/woodland manager', 'Clinical cytogeneticist', 'Print production planner', 'Systems developer', 'Graphic designer', 'Writer', 'Field seismologist', 'Chief Strategy Officer', 'Air cabin crew', 'Python Programmer (Entry-Level)', 'Warden/ranger', 'Sports therapist', 'Arts development officer', 'Printmaker', 'Health and safety adviser', 'Manufacturing systems engineer', 'Programmer, applications', 'Medical physicist', 'Media planner', 'Software Developer (Python)', 'Surveyor, land/geomatics', 'Legal executive', 'Librarian, academic', 'Barrister', 'Museum/gallery exhibitions officer', 'Radiographer, diagnostic', 'Database administrator', 'Furniture designer', 'Ship broker']\n"
     ]
    }
   ],
   "source": [
    "#Use a for loop to save each job title to a list\n",
    "#Fist create an empty list\n",
    "job_titles = []\n",
    "\n",
    "#The use a for loop to extract each listing in the .findall call from above\n",
    "#create a variable to store just the text portion of the html string\n",
    "#append each text string to the empty list\n",
    "for listing in all_jobs:\n",
    "    j = listing.text\n",
    "    job_titles.append(j)\n",
    "    \n",
    "#print result to confirm it worked\n",
    "print(job_titles)"
   ]
  },
  {
   "cell_type": "markdown",
   "id": "fa631e3d",
   "metadata": {},
   "source": [
    "c. Finally, extract the companies, locations, and posting dates for each job. For example, the first job has a company of \"Payne, Roberts and Davis\", a location of \"Stewartbury, AA\", and a posting date of \"2021-04-08\". Ensure that the text that you extract is clean, meaning no extra spaces or other characters at the beginning or end.  "
   ]
  },
  {
   "cell_type": "code",
   "execution_count": 16,
   "id": "9c779a50",
   "metadata": {},
   "outputs": [
    {
     "name": "stdout",
     "output_type": "stream",
     "text": [
      "['Payne, Roberts and Davis', 'Vasquez-Davidson', 'Jackson, Chambers and Levy', 'Savage-Bradley', 'Ramirez Inc', 'Rogers-Yates', 'Kramer-Klein', 'Meyers-Johnson', 'Hughes-Williams', 'Jones, Williams and Villa', 'Garcia PLC', 'Gregory and Sons', 'Clark, Garcia and Sosa', 'Bush PLC', 'Salazar-Meyers', 'Parker, Murphy and Brooks', 'Cruz-Brown', 'Macdonald-Ferguson', 'Williams, Peterson and Rojas', 'Smith and Sons', 'Moss, Duncan and Allen', 'Gomez-Carroll', 'Manning, Welch and Herring', 'Lee, Gutierrez and Brown', 'Davis, Serrano and Cook', 'Smith LLC', 'Thomas Group', 'Silva-King', 'Pierce-Long', 'Walker-Simpson', 'Cooper and Sons', 'Donovan, Gonzalez and Figueroa', 'Morgan, Butler and Bennett', 'Snyder-Lee', 'Harris PLC', 'Washington PLC', 'Brown, Price and Campbell', 'Mcgee PLC', 'Dixon Inc', 'Thompson, Sheppard and Ward', 'Adams-Brewer', 'Schneider-Brady', 'Gonzales-Frank', 'Smith-Wong', 'Pierce-Herrera', 'Aguilar, Rivera and Quinn', 'Lowe, Barnes and Thomas', 'Lewis, Gonzalez and Vasquez', 'Taylor PLC', 'Oliver, Jones and Ramirez', 'Rivera and Sons', 'Garcia PLC', 'Johnson, Wells and Kramer', 'Gonzalez LLC', 'Morgan, White and Macdonald', 'Robinson-Fitzpatrick', 'Waters, Wilson and Hoover', 'Hill LLC', 'Li-Gregory', 'Fisher, Ryan and Coleman', 'Stewart-Alexander', 'Abbott and Sons', 'Bryant, Santana and Davenport', 'Smith PLC', 'Patterson-Singh', 'Martinez-Berry', 'May, Taylor and Fisher', 'Bailey, Owen and Thompson', 'Vasquez Ltd', 'Leblanc LLC', 'Jackson, Ali and Mckee', 'Blankenship, Knight and Powell', 'Patton, Haynes and Jones', 'Wood Inc', 'Collins Group', 'Flores-Nelson', 'Mitchell, Jones and Olson', 'Howard Group', 'Kramer-Edwards', 'Berry-Houston', 'Mathews Inc', 'Riley-Johnson', 'Spencer and Sons', 'Camacho-Sanchez', 'Oliver and Sons', 'Eaton PLC', 'Stanley-Frederick', 'Bradley LLC', 'Parker, Goodwin and Zavala', 'Kim-Miles', 'Moreno-Rodriguez', 'Brown-Ortiz', 'Hartman PLC', 'Brooks Inc', 'Washington-Castillo', 'Nguyen, Yoder and Petty', 'Holder LLC', 'Yates-Ferguson', 'Ortega-Lawrence', 'Fuentes, Walls and Castro']\n"
     ]
    }
   ],
   "source": [
    "#Adding company data:\n",
    "all_companies = soup.findAll('h3')\n",
    "companies = []\n",
    "for listing in all_companies:\n",
    "    c = listing.text\n",
    "    companies.append(c)\n",
    "    \n",
    "print(companies)"
   ]
  },
  {
   "cell_type": "code",
   "execution_count": 11,
   "id": "eca17ec4",
   "metadata": {},
   "outputs": [
    {
     "name": "stdout",
     "output_type": "stream",
     "text": [
      "[<p class=\"location\">\n",
      "        Stewartbury, AA\n",
      "      </p>, <p class=\"location\">\n",
      "        Christopherville, AA\n",
      "      </p>, <p class=\"location\">\n",
      "        Port Ericaburgh, AA\n",
      "      </p>, <p class=\"location\">\n",
      "        East Seanview, AP\n",
      "      </p>, <p class=\"location\">\n",
      "        North Jamieview, AP\n",
      "      </p>, <p class=\"location\">\n",
      "        Davidville, AP\n",
      "      </p>, <p class=\"location\">\n",
      "        South Christopher, AE\n",
      "      </p>, <p class=\"location\">\n",
      "        Port Jonathan, AE\n",
      "      </p>, <p class=\"location\">\n",
      "        Osbornetown, AE\n",
      "      </p>, <p class=\"location\">\n",
      "        Scotttown, AP\n",
      "      </p>, <p class=\"location\">\n",
      "        Ericberg, AE\n",
      "      </p>, <p class=\"location\">\n",
      "        Ramireztown, AE\n",
      "      </p>, <p class=\"location\">\n",
      "        Figueroaview, AA\n",
      "      </p>, <p class=\"location\">\n",
      "        Kelseystad, AA\n",
      "      </p>, <p class=\"location\">\n",
      "        Williamsburgh, AE\n",
      "      </p>, <p class=\"location\">\n",
      "        Mitchellburgh, AE\n",
      "      </p>, <p class=\"location\">\n",
      "        West Jessicabury, AA\n",
      "      </p>, <p class=\"location\">\n",
      "        Maloneshire, AE\n",
      "      </p>, <p class=\"location\">\n",
      "        Johnsonton, AA\n",
      "      </p>, <p class=\"location\">\n",
      "        South Davidtown, AP\n",
      "      </p>, <p class=\"location\">\n",
      "        Port Sara, AE\n",
      "      </p>, <p class=\"location\">\n",
      "        Marktown, AA\n",
      "      </p>, <p class=\"location\">\n",
      "        Laurenland, AE\n",
      "      </p>, <p class=\"location\">\n",
      "        Lauraton, AP\n",
      "      </p>, <p class=\"location\">\n",
      "        South Tammyberg, AP\n",
      "      </p>, <p class=\"location\">\n",
      "        North Brandonville, AP\n",
      "      </p>, <p class=\"location\">\n",
      "        Port Robertfurt, AA\n",
      "      </p>, <p class=\"location\">\n",
      "        Burnettbury, AE\n",
      "      </p>, <p class=\"location\">\n",
      "        Herbertside, AA\n",
      "      </p>, <p class=\"location\">\n",
      "        Christopherport, AP\n",
      "      </p>, <p class=\"location\">\n",
      "        West Victor, AE\n",
      "      </p>, <p class=\"location\">\n",
      "        Port Aaron, AP\n",
      "      </p>, <p class=\"location\">\n",
      "        Loribury, AA\n",
      "      </p>, <p class=\"location\">\n",
      "        Angelastad, AP\n",
      "      </p>, <p class=\"location\">\n",
      "        Larrytown, AE\n",
      "      </p>, <p class=\"location\">\n",
      "        West Colin, AP\n",
      "      </p>, <p class=\"location\">\n",
      "        West Stephanie, AP\n",
      "      </p>, <p class=\"location\">\n",
      "        Laurentown, AP\n",
      "      </p>, <p class=\"location\">\n",
      "        Wrightberg, AP\n",
      "      </p>, <p class=\"location\">\n",
      "        Alberttown, AE\n",
      "      </p>, <p class=\"location\">\n",
      "        Brockburgh, AE\n",
      "      </p>, <p class=\"location\">\n",
      "        North Jason, AE\n",
      "      </p>, <p class=\"location\">\n",
      "        Arnoldhaven, AE\n",
      "      </p>, <p class=\"location\">\n",
      "        Lake Destiny, AP\n",
      "      </p>, <p class=\"location\">\n",
      "        South Timothyburgh, AP\n",
      "      </p>, <p class=\"location\">\n",
      "        New Jimmyton, AE\n",
      "      </p>, <p class=\"location\">\n",
      "        New Lucasbury, AP\n",
      "      </p>, <p class=\"location\">\n",
      "        Port Cory, AE\n",
      "      </p>, <p class=\"location\">\n",
      "        Gileston, AA\n",
      "      </p>, <p class=\"location\">\n",
      "        Cindyshire, AA\n",
      "      </p>, <p class=\"location\">\n",
      "        East Michaelfort, AA\n",
      "      </p>, <p class=\"location\">\n",
      "        Joybury, AE\n",
      "      </p>, <p class=\"location\">\n",
      "        Emmatown, AE\n",
      "      </p>, <p class=\"location\">\n",
      "        Colehaven, AP\n",
      "      </p>, <p class=\"location\">\n",
      "        Port Coryton, AE\n",
      "      </p>, <p class=\"location\">\n",
      "        Amyborough, AA\n",
      "      </p>, <p class=\"location\">\n",
      "        Reynoldsville, AA\n",
      "      </p>, <p class=\"location\">\n",
      "        Port Billy, AP\n",
      "      </p>, <p class=\"location\">\n",
      "        Adamburgh, AA\n",
      "      </p>, <p class=\"location\">\n",
      "        Wilsonmouth, AA\n",
      "      </p>, <p class=\"location\">\n",
      "        South Kimberly, AA\n",
      "      </p>, <p class=\"location\">\n",
      "        Benjaminland, AP\n",
      "      </p>, <p class=\"location\">\n",
      "        Zacharyport, AA\n",
      "      </p>, <p class=\"location\">\n",
      "        Port Devonville, AE\n",
      "      </p>, <p class=\"location\">\n",
      "        East Thomas, AE\n",
      "      </p>, <p class=\"location\">\n",
      "        New Jeffrey, AP\n",
      "      </p>, <p class=\"location\">\n",
      "        Davidside, AA\n",
      "      </p>, <p class=\"location\">\n",
      "        Jamesville, AA\n",
      "      </p>, <p class=\"location\">\n",
      "        New Kelly, AP\n",
      "      </p>, <p class=\"location\">\n",
      "        Lake Antonio, AA\n",
      "      </p>, <p class=\"location\">\n",
      "        New Elizabethside, AA\n",
      "      </p>, <p class=\"location\">\n",
      "        Millsbury, AE\n",
      "      </p>, <p class=\"location\">\n",
      "        Lloydton, AP\n",
      "      </p>, <p class=\"location\">\n",
      "        Port Jeremy, AA\n",
      "      </p>, <p class=\"location\">\n",
      "        New Elizabethtown, AA\n",
      "      </p>, <p class=\"location\">\n",
      "        Charlesstad, AE\n",
      "      </p>, <p class=\"location\">\n",
      "        Josephbury, AE\n",
      "      </p>, <p class=\"location\">\n",
      "        Seanfurt, AA\n",
      "      </p>, <p class=\"location\">\n",
      "        Williambury, AA\n",
      "      </p>, <p class=\"location\">\n",
      "        South Jorgeside, AP\n",
      "      </p>, <p class=\"location\">\n",
      "        Robertborough, AP\n",
      "      </p>, <p class=\"location\">\n",
      "        South Saratown, AP\n",
      "      </p>, <p class=\"location\">\n",
      "        Hullview, AA\n",
      "      </p>, <p class=\"location\">\n",
      "        Philipland, AP\n",
      "      </p>, <p class=\"location\">\n",
      "        North Patty, AE\n",
      "      </p>, <p class=\"location\">\n",
      "        North Stephen, AE\n",
      "      </p>, <p class=\"location\">\n",
      "        Stevensland, AP\n",
      "      </p>, <p class=\"location\">\n",
      "        Reyesstad, AE\n",
      "      </p>, <p class=\"location\">\n",
      "        Bellberg, AP\n",
      "      </p>, <p class=\"location\">\n",
      "        North Johnland, AE\n",
      "      </p>, <p class=\"location\">\n",
      "        Martinezburgh, AE\n",
      "      </p>, <p class=\"location\">\n",
      "        Joshuatown, AE\n",
      "      </p>, <p class=\"location\">\n",
      "        West Ericstad, AA\n",
      "      </p>, <p class=\"location\">\n",
      "        Tuckertown, AE\n",
      "      </p>, <p class=\"location\">\n",
      "        Perezton, AE\n",
      "      </p>, <p class=\"location\">\n",
      "        Lake Abigail, AE\n",
      "      </p>, <p class=\"location\">\n",
      "        Jacobshire, AP\n",
      "      </p>, <p class=\"location\">\n",
      "        Port Susan, AE\n",
      "      </p>, <p class=\"location\">\n",
      "        North Tiffany, AA\n",
      "      </p>, <p class=\"location\">\n",
      "        Michelleville, AP\n",
      "      </p>]\n"
     ]
    }
   ],
   "source": [
    "#Adding locations\n",
    "all_locations = soup.findAll('p', {'class': 'location'})\n",
    "locations = []\n",
    "for listing in all_locations:\n",
    "    locations.append(listing)\n",
    "    \n",
    "print(locations)"
   ]
  },
  {
   "cell_type": "code",
   "execution_count": null,
   "id": "9ff482fd",
   "metadata": {},
   "outputs": [],
   "source": [
    "#Adding posting dates\n",
    "all_companies = soup.findAll('time')\n",
    "companies = []\n",
    "for listing in all_companies:\n",
    "    companies.append(listing)\n",
    "    \n",
    "#print(companies)"
   ]
  },
  {
   "cell_type": "markdown",
   "id": "617484a2",
   "metadata": {},
   "source": [
    "d. Take the lists that you have created and combine them into a pandas DataFrame. "
   ]
  },
  {
   "cell_type": "code",
   "execution_count": null,
   "id": "d7520102",
   "metadata": {},
   "outputs": [],
   "source": []
  },
  {
   "cell_type": "markdown",
   "id": "9b15352f",
   "metadata": {},
   "source": [
    "2. Next, add a column that contains the url for the \"Apply\" button. Try this in two ways.   \n",
    "    a. First, use the BeautifulSoup find_all method to extract the urls.  \n",
    "    b. Next, get those same urls in a different way. Examine the urls and see if you can spot the pattern of how they are constructed. Then, build the url using the elements you have already extracted. Ensure that the urls that you created match those that you extracted using BeautifulSoup. Warning: You will need to do some string cleaning and prep in constructing the urls this way. For example, look carefully at the urls for the \"Software Engineer (Python)\" job and the \"Scientist, research (maths)\" job."
   ]
  },
  {
   "cell_type": "markdown",
   "id": "babc6ac1",
   "metadata": {},
   "source": [
    "3. Finally, we want to get the job description text for each job.  \n",
    "    a. Start by looking at the page for the first job, https://realpython.github.io/fake-jobs/jobs/senior-python-developer-0.html. Using BeautifulSoup, extract the job description paragraph.  \n",
    "    b. We want to be able to do this for all pages. Write a function which takes as input a url and returns the description text on that page. For example, if you input \"https://realpython.github.io/fake-jobs/jobs/television-floor-manager-8.html\" into your function, it should return the string \"At be than always different American address. Former claim chance prevent why measure too. Almost before some military outside baby interview. Face top individual win suddenly. Parent do ten after those scientist. Medical effort assume teacher wall. Significant his himself clearly very. Expert stop area along individual. Three own bank recognize special good along.\".  \n",
    "    c. Use the [.apply method](https://pandas.pydata.org/docs/reference/api/pandas.Series.apply.html) on the url column you created above to retrieve the description text for all of the jobs."
   ]
  },
  {
   "cell_type": "code",
   "execution_count": null,
   "id": "d7b1750c",
   "metadata": {},
   "outputs": [],
   "source": []
  }
 ],
 "metadata": {
  "kernelspec": {
   "display_name": "Python 3 (ipykernel)",
   "language": "python",
   "name": "python3"
  },
  "language_info": {
   "codemirror_mode": {
    "name": "ipython",
    "version": 3
   },
   "file_extension": ".py",
   "mimetype": "text/x-python",
   "name": "python",
   "nbconvert_exporter": "python",
   "pygments_lexer": "ipython3",
   "version": "3.11.7"
  }
 },
 "nbformat": 4,
 "nbformat_minor": 5
}
