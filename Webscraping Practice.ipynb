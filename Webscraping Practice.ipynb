{
 "cells": [
  {
   "cell_type": "markdown",
   "id": "50a2d9db",
   "metadata": {},
   "source": [
    "# Webscraping\n",
    "\n",
    "In this exercise, you'll practice using BeautifulSoup to parse the content of a web page. The page that you'll be scraping, https://realpython.github.io/fake-jobs/, contains job listings. Your job is to extract the data on each job and convert into a pandas DataFrame.\n",
    "\n",
    "To retrieve the contents of a website, we will be using bthe [_requests_](https://requests.readthedocs.io/en/master/) library."
   ]
  },
  {
   "cell_type": "code",
   "execution_count": 12,
   "id": "f68cebe6",
   "metadata": {},
   "outputs": [],
   "source": [
    "#Import the requests library.\n",
    "import requests\n",
    "\n",
    "#Import beautiful soup, so we can prettify the text of the website\n",
    "from bs4 import BeautifulSoup as BS\n",
    "\n",
    "#other libraries that may or may not be used:\n",
    "from IPython.core.display import HTML\n",
    "import pandas as pd"
   ]
  },
  {
   "cell_type": "markdown",
   "id": "4c23383e",
   "metadata": {},
   "source": [
    "## 1. Start by performing a GET request on the url above and convert the response into a BeautifulSoup object.  "
   ]
  },
  {
   "cell_type": "code",
   "execution_count": 2,
   "id": "8b4c04bf",
   "metadata": {},
   "outputs": [],
   "source": [
    "URL = 'https://realpython.github.io/fake-jobs/'\n",
    "\n",
    "response = requests.get(URL)"
   ]
  },
  {
   "cell_type": "markdown",
   "id": "0efa1e05",
   "metadata": {},
   "source": [
    "### a. Use the .find method to find the tag containing the first job title (\"Senior Python Developer\"). Hint: can you find a tag type and/or a class that could be helpful for extracting this information? Extract the text from this title"
   ]
  },
  {
   "cell_type": "code",
   "execution_count": 3,
   "id": "37f7c394",
   "metadata": {},
   "outputs": [],
   "source": [
    "#Before we can use .find, we need to use an HTML parser to make it more readable\n",
    "soup = BS(response.text)"
   ]
  },
  {
   "cell_type": "code",
   "execution_count": 4,
   "id": "7b82c2a2",
   "metadata": {},
   "outputs": [],
   "source": [
    "#print(soup.prettify())"
   ]
  },
  {
   "cell_type": "code",
   "execution_count": 5,
   "id": "3b5bc1bc",
   "metadata": {
    "scrolled": true
   },
   "outputs": [
    {
     "data": {
      "text/plain": [
       "'Senior Python Developer'"
      ]
     },
     "execution_count": 5,
     "metadata": {},
     "output_type": "execute_result"
    }
   ],
   "source": [
    "#To find just the first job title:\n",
    "soup.find('h2').text"
   ]
  },
  {
   "cell_type": "markdown",
   "id": "16d53982",
   "metadata": {},
   "source": [
    "### b. Now, use what you did for the first title, but extract the job title for all jobs on this page. Store the results in a list. "
   ]
  },
  {
   "cell_type": "code",
   "execution_count": 6,
   "id": "5fbf6fa9",
   "metadata": {},
   "outputs": [],
   "source": [
    "#To find all job titles:\n",
    "all_jobs = soup.findAll('h2')"
   ]
  },
  {
   "cell_type": "code",
   "execution_count": 7,
   "id": "e3f3213e",
   "metadata": {},
   "outputs": [],
   "source": [
    "#Use a for loop to save each job title to a list\n",
    "#Fist create an empty list\n",
    "title = []\n",
    "\n",
    "#The use a for loop to extract each listing in the .findall call from above\n",
    "#create a variable to store just the text portion of the html string\n",
    "#make sure to use .strip in case there are extra spaces or breaks\n",
    "#append each text string to the empty list\n",
    "for listing in all_jobs:\n",
    "    j = listing.text.strip()\n",
    "    title.append(j)\n",
    "    \n",
    "#print result to confirm it worked\n",
    "#print(title)"
   ]
  },
  {
   "cell_type": "markdown",
   "id": "ac37cf31",
   "metadata": {},
   "source": [
    "### c. Finally, extract the companies, locations, and posting dates for each job. For example, the first job has a company of \"Payne, Roberts and Davis\", a location of \"Stewartbury, AA\", and a posting date of \"2021-04-08\". Ensure that the text that you extract is clean, meaning no extra spaces or other characters at the beginning or end.  "
   ]
  },
  {
   "cell_type": "code",
   "execution_count": 8,
   "id": "aeaf70fe",
   "metadata": {},
   "outputs": [],
   "source": [
    "#Adding company data:\n",
    "all_companies = soup.findAll('h3')\n",
    "company = []\n",
    "for listing in all_companies:\n",
    "    c = listing.text.strip()\n",
    "    company.append(c)\n",
    "    \n",
    "#print(company)"
   ]
  },
  {
   "cell_type": "code",
   "execution_count": 9,
   "id": "e0598c12",
   "metadata": {},
   "outputs": [],
   "source": [
    "#Adding locations\n",
    "all_locations = soup.findAll('p', {'class': 'location'})\n",
    "location = []\n",
    "for listing in all_locations:\n",
    "    l = listing.text.strip()\n",
    "    location.append(l)\n",
    "    \n",
    "#print(location)"
   ]
  },
  {
   "cell_type": "code",
   "execution_count": 10,
   "id": "a71066ab",
   "metadata": {},
   "outputs": [],
   "source": [
    "#Adding posting dates\n",
    "all_dates = soup.findAll('time')\n",
    "date_posted = []\n",
    "for listing in all_dates:\n",
    "    d = listing.text.strip()\n",
    "    date_posted.append(d)\n",
    "    \n",
    "#print(date_posted)"
   ]
  },
  {
   "cell_type": "markdown",
   "id": "4e2004b5",
   "metadata": {},
   "source": [
    "### d. Take the lists that you have created and combine them into a pandas DataFrame. "
   ]
  },
  {
   "cell_type": "code",
   "execution_count": 13,
   "id": "853cd116",
   "metadata": {},
   "outputs": [
    {
     "data": {
      "text/html": [
       "<div>\n",
       "<style scoped>\n",
       "    .dataframe tbody tr th:only-of-type {\n",
       "        vertical-align: middle;\n",
       "    }\n",
       "\n",
       "    .dataframe tbody tr th {\n",
       "        vertical-align: top;\n",
       "    }\n",
       "\n",
       "    .dataframe thead th {\n",
       "        text-align: right;\n",
       "    }\n",
       "</style>\n",
       "<table border=\"1\" class=\"dataframe\">\n",
       "  <thead>\n",
       "    <tr style=\"text-align: right;\">\n",
       "      <th></th>\n",
       "      <th>title</th>\n",
       "      <th>company</th>\n",
       "      <th>location</th>\n",
       "      <th>date_posted</th>\n",
       "    </tr>\n",
       "  </thead>\n",
       "  <tbody>\n",
       "    <tr>\n",
       "      <th>0</th>\n",
       "      <td>Senior Python Developer</td>\n",
       "      <td>Payne, Roberts and Davis</td>\n",
       "      <td>Stewartbury, AA</td>\n",
       "      <td>2021-04-08</td>\n",
       "    </tr>\n",
       "    <tr>\n",
       "      <th>1</th>\n",
       "      <td>Energy engineer</td>\n",
       "      <td>Vasquez-Davidson</td>\n",
       "      <td>Christopherville, AA</td>\n",
       "      <td>2021-04-08</td>\n",
       "    </tr>\n",
       "    <tr>\n",
       "      <th>2</th>\n",
       "      <td>Legal executive</td>\n",
       "      <td>Jackson, Chambers and Levy</td>\n",
       "      <td>Port Ericaburgh, AA</td>\n",
       "      <td>2021-04-08</td>\n",
       "    </tr>\n",
       "    <tr>\n",
       "      <th>3</th>\n",
       "      <td>Fitness centre manager</td>\n",
       "      <td>Savage-Bradley</td>\n",
       "      <td>East Seanview, AP</td>\n",
       "      <td>2021-04-08</td>\n",
       "    </tr>\n",
       "    <tr>\n",
       "      <th>4</th>\n",
       "      <td>Product manager</td>\n",
       "      <td>Ramirez Inc</td>\n",
       "      <td>North Jamieview, AP</td>\n",
       "      <td>2021-04-08</td>\n",
       "    </tr>\n",
       "    <tr>\n",
       "      <th>...</th>\n",
       "      <td>...</td>\n",
       "      <td>...</td>\n",
       "      <td>...</td>\n",
       "      <td>...</td>\n",
       "    </tr>\n",
       "    <tr>\n",
       "      <th>95</th>\n",
       "      <td>Museum/gallery exhibitions officer</td>\n",
       "      <td>Nguyen, Yoder and Petty</td>\n",
       "      <td>Lake Abigail, AE</td>\n",
       "      <td>2021-04-08</td>\n",
       "    </tr>\n",
       "    <tr>\n",
       "      <th>96</th>\n",
       "      <td>Radiographer, diagnostic</td>\n",
       "      <td>Holder LLC</td>\n",
       "      <td>Jacobshire, AP</td>\n",
       "      <td>2021-04-08</td>\n",
       "    </tr>\n",
       "    <tr>\n",
       "      <th>97</th>\n",
       "      <td>Database administrator</td>\n",
       "      <td>Yates-Ferguson</td>\n",
       "      <td>Port Susan, AE</td>\n",
       "      <td>2021-04-08</td>\n",
       "    </tr>\n",
       "    <tr>\n",
       "      <th>98</th>\n",
       "      <td>Furniture designer</td>\n",
       "      <td>Ortega-Lawrence</td>\n",
       "      <td>North Tiffany, AA</td>\n",
       "      <td>2021-04-08</td>\n",
       "    </tr>\n",
       "    <tr>\n",
       "      <th>99</th>\n",
       "      <td>Ship broker</td>\n",
       "      <td>Fuentes, Walls and Castro</td>\n",
       "      <td>Michelleville, AP</td>\n",
       "      <td>2021-04-08</td>\n",
       "    </tr>\n",
       "  </tbody>\n",
       "</table>\n",
       "<p>100 rows × 4 columns</p>\n",
       "</div>"
      ],
      "text/plain": [
       "                                 title                     company  \\\n",
       "0              Senior Python Developer    Payne, Roberts and Davis   \n",
       "1                      Energy engineer            Vasquez-Davidson   \n",
       "2                      Legal executive  Jackson, Chambers and Levy   \n",
       "3               Fitness centre manager              Savage-Bradley   \n",
       "4                      Product manager                 Ramirez Inc   \n",
       "..                                 ...                         ...   \n",
       "95  Museum/gallery exhibitions officer     Nguyen, Yoder and Petty   \n",
       "96            Radiographer, diagnostic                  Holder LLC   \n",
       "97              Database administrator              Yates-Ferguson   \n",
       "98                  Furniture designer             Ortega-Lawrence   \n",
       "99                         Ship broker   Fuentes, Walls and Castro   \n",
       "\n",
       "                location date_posted  \n",
       "0        Stewartbury, AA  2021-04-08  \n",
       "1   Christopherville, AA  2021-04-08  \n",
       "2    Port Ericaburgh, AA  2021-04-08  \n",
       "3      East Seanview, AP  2021-04-08  \n",
       "4    North Jamieview, AP  2021-04-08  \n",
       "..                   ...         ...  \n",
       "95      Lake Abigail, AE  2021-04-08  \n",
       "96        Jacobshire, AP  2021-04-08  \n",
       "97        Port Susan, AE  2021-04-08  \n",
       "98     North Tiffany, AA  2021-04-08  \n",
       "99     Michelleville, AP  2021-04-08  \n",
       "\n",
       "[100 rows x 4 columns]"
      ]
     },
     "execution_count": 13,
     "metadata": {},
     "output_type": "execute_result"
    }
   ],
   "source": [
    "jobs_df = pd.DataFrame({'title':title,'company':company,'location':location,'date_posted':date_posted})\n",
    "jobs_df"
   ]
  },
  {
   "cell_type": "markdown",
   "id": "97c2b11d",
   "metadata": {},
   "source": [
    "## 2. Next, add a column that contains the url for the \"Apply\" button. Try this in two ways."
   ]
  },
  {
   "cell_type": "markdown",
   "id": "ff56e0e1",
   "metadata": {},
   "source": [
    "### a. First, use the BeautifulSoup find_all method to extract the urls."
   ]
  },
  {
   "cell_type": "code",
   "execution_count": 30,
   "id": "05dcb904",
   "metadata": {},
   "outputs": [
    {
     "data": {
      "text/html": [
       "<div>\n",
       "<style scoped>\n",
       "    .dataframe tbody tr th:only-of-type {\n",
       "        vertical-align: middle;\n",
       "    }\n",
       "\n",
       "    .dataframe tbody tr th {\n",
       "        vertical-align: top;\n",
       "    }\n",
       "\n",
       "    .dataframe thead th {\n",
       "        text-align: right;\n",
       "    }\n",
       "</style>\n",
       "<table border=\"1\" class=\"dataframe\">\n",
       "  <thead>\n",
       "    <tr style=\"text-align: right;\">\n",
       "      <th></th>\n",
       "      <th>title</th>\n",
       "      <th>company</th>\n",
       "      <th>location</th>\n",
       "      <th>date_posted</th>\n",
       "      <th>link</th>\n",
       "    </tr>\n",
       "  </thead>\n",
       "  <tbody>\n",
       "    <tr>\n",
       "      <th>0</th>\n",
       "      <td>Senior Python Developer</td>\n",
       "      <td>Payne, Roberts and Davis</td>\n",
       "      <td>Stewartbury, AA</td>\n",
       "      <td>2021-04-08</td>\n",
       "      <td>https://realpython.github.io/fake-jobs/jobs/se...</td>\n",
       "    </tr>\n",
       "    <tr>\n",
       "      <th>1</th>\n",
       "      <td>Energy engineer</td>\n",
       "      <td>Vasquez-Davidson</td>\n",
       "      <td>Christopherville, AA</td>\n",
       "      <td>2021-04-08</td>\n",
       "      <td>https://realpython.github.io/fake-jobs/jobs/en...</td>\n",
       "    </tr>\n",
       "    <tr>\n",
       "      <th>2</th>\n",
       "      <td>Legal executive</td>\n",
       "      <td>Jackson, Chambers and Levy</td>\n",
       "      <td>Port Ericaburgh, AA</td>\n",
       "      <td>2021-04-08</td>\n",
       "      <td>https://realpython.github.io/fake-jobs/jobs/le...</td>\n",
       "    </tr>\n",
       "    <tr>\n",
       "      <th>3</th>\n",
       "      <td>Fitness centre manager</td>\n",
       "      <td>Savage-Bradley</td>\n",
       "      <td>East Seanview, AP</td>\n",
       "      <td>2021-04-08</td>\n",
       "      <td>https://realpython.github.io/fake-jobs/jobs/fi...</td>\n",
       "    </tr>\n",
       "    <tr>\n",
       "      <th>4</th>\n",
       "      <td>Product manager</td>\n",
       "      <td>Ramirez Inc</td>\n",
       "      <td>North Jamieview, AP</td>\n",
       "      <td>2021-04-08</td>\n",
       "      <td>https://realpython.github.io/fake-jobs/jobs/pr...</td>\n",
       "    </tr>\n",
       "    <tr>\n",
       "      <th>...</th>\n",
       "      <td>...</td>\n",
       "      <td>...</td>\n",
       "      <td>...</td>\n",
       "      <td>...</td>\n",
       "      <td>...</td>\n",
       "    </tr>\n",
       "    <tr>\n",
       "      <th>95</th>\n",
       "      <td>Museum/gallery exhibitions officer</td>\n",
       "      <td>Nguyen, Yoder and Petty</td>\n",
       "      <td>Lake Abigail, AE</td>\n",
       "      <td>2021-04-08</td>\n",
       "      <td>https://realpython.github.io/fake-jobs/jobs/mu...</td>\n",
       "    </tr>\n",
       "    <tr>\n",
       "      <th>96</th>\n",
       "      <td>Radiographer, diagnostic</td>\n",
       "      <td>Holder LLC</td>\n",
       "      <td>Jacobshire, AP</td>\n",
       "      <td>2021-04-08</td>\n",
       "      <td>https://realpython.github.io/fake-jobs/jobs/ra...</td>\n",
       "    </tr>\n",
       "    <tr>\n",
       "      <th>97</th>\n",
       "      <td>Database administrator</td>\n",
       "      <td>Yates-Ferguson</td>\n",
       "      <td>Port Susan, AE</td>\n",
       "      <td>2021-04-08</td>\n",
       "      <td>https://realpython.github.io/fake-jobs/jobs/da...</td>\n",
       "    </tr>\n",
       "    <tr>\n",
       "      <th>98</th>\n",
       "      <td>Furniture designer</td>\n",
       "      <td>Ortega-Lawrence</td>\n",
       "      <td>North Tiffany, AA</td>\n",
       "      <td>2021-04-08</td>\n",
       "      <td>https://realpython.github.io/fake-jobs/jobs/fu...</td>\n",
       "    </tr>\n",
       "    <tr>\n",
       "      <th>99</th>\n",
       "      <td>Ship broker</td>\n",
       "      <td>Fuentes, Walls and Castro</td>\n",
       "      <td>Michelleville, AP</td>\n",
       "      <td>2021-04-08</td>\n",
       "      <td>https://realpython.github.io/fake-jobs/jobs/sh...</td>\n",
       "    </tr>\n",
       "  </tbody>\n",
       "</table>\n",
       "<p>100 rows × 5 columns</p>\n",
       "</div>"
      ],
      "text/plain": [
       "                                 title                     company  \\\n",
       "0              Senior Python Developer    Payne, Roberts and Davis   \n",
       "1                      Energy engineer            Vasquez-Davidson   \n",
       "2                      Legal executive  Jackson, Chambers and Levy   \n",
       "3               Fitness centre manager              Savage-Bradley   \n",
       "4                      Product manager                 Ramirez Inc   \n",
       "..                                 ...                         ...   \n",
       "95  Museum/gallery exhibitions officer     Nguyen, Yoder and Petty   \n",
       "96            Radiographer, diagnostic                  Holder LLC   \n",
       "97              Database administrator              Yates-Ferguson   \n",
       "98                  Furniture designer             Ortega-Lawrence   \n",
       "99                         Ship broker   Fuentes, Walls and Castro   \n",
       "\n",
       "                location date_posted  \\\n",
       "0        Stewartbury, AA  2021-04-08   \n",
       "1   Christopherville, AA  2021-04-08   \n",
       "2    Port Ericaburgh, AA  2021-04-08   \n",
       "3      East Seanview, AP  2021-04-08   \n",
       "4    North Jamieview, AP  2021-04-08   \n",
       "..                   ...         ...   \n",
       "95      Lake Abigail, AE  2021-04-08   \n",
       "96        Jacobshire, AP  2021-04-08   \n",
       "97        Port Susan, AE  2021-04-08   \n",
       "98     North Tiffany, AA  2021-04-08   \n",
       "99     Michelleville, AP  2021-04-08   \n",
       "\n",
       "                                                 link  \n",
       "0   https://realpython.github.io/fake-jobs/jobs/se...  \n",
       "1   https://realpython.github.io/fake-jobs/jobs/en...  \n",
       "2   https://realpython.github.io/fake-jobs/jobs/le...  \n",
       "3   https://realpython.github.io/fake-jobs/jobs/fi...  \n",
       "4   https://realpython.github.io/fake-jobs/jobs/pr...  \n",
       "..                                                ...  \n",
       "95  https://realpython.github.io/fake-jobs/jobs/mu...  \n",
       "96  https://realpython.github.io/fake-jobs/jobs/ra...  \n",
       "97  https://realpython.github.io/fake-jobs/jobs/da...  \n",
       "98  https://realpython.github.io/fake-jobs/jobs/fu...  \n",
       "99  https://realpython.github.io/fake-jobs/jobs/sh...  \n",
       "\n",
       "[100 rows x 5 columns]"
      ]
     },
     "execution_count": 30,
     "metadata": {},
     "output_type": "execute_result"
    }
   ],
   "source": [
    "#Use a .findall() to extract all the <a> tags, assign to variable\n",
    "#Create empty list to put URLs in\n",
    "#Use a for loop to get each \"href\" inside the <a> tags and append it to the empty list\n",
    "#Use [1::2] to skip every other link bc there are two different types of links on the page\n",
    "#Create new column in the jobs_df table\n",
    "all_urls = soup.find_all('a')\n",
    "apply_urls = []\n",
    "for link in all_urls[1::2]:\n",
    "    apply_urls.append(link.get('href'))\n",
    "jobs_df['link'] = apply_urls\n",
    "jobs_df"
   ]
  },
  {
   "cell_type": "markdown",
   "id": "a7472e71",
   "metadata": {},
   "source": [
    "### b. Next, get those same urls in a different way. Examine the urls and see if you can spot the pattern of how they are constructed. Then, build the url using the elements you have already extracted. Ensure that the urls that you created match those that you extracted using BeautifulSoup. Warning: You will need to do some string cleaning and prep in constructing the urls this way. For example, look carefully at the urls for the \"Software Engineer (Python)\" job and the \"Scientist, research (maths)\" job."
   ]
  },
  {
   "cell_type": "code",
   "execution_count": null,
   "id": "a0629a28",
   "metadata": {},
   "outputs": [],
   "source": [
    "#https://realpython.github.io/fake-jobs/jobs/software-engineer-python-10.html\n",
    "#https://realpython.github.io/fake-jobs/jobs/scientist-research-maths-22.html"
   ]
  },
  {
   "cell_type": "markdown",
   "id": "cc825747",
   "metadata": {},
   "source": [
    "## 3. Finally, we want to get the job description text for each job."
   ]
  },
  {
   "cell_type": "markdown",
   "id": "fbccf4ae",
   "metadata": {},
   "source": [
    "### a. Start by looking at the page for the first job, https://realpython.github.io/fake-jobs/jobs/senior-python-developer-0.html. Using BeautifulSoup, extract the job description paragraph. "
   ]
  },
  {
   "cell_type": "markdown",
   "id": "bad4b80d",
   "metadata": {},
   "source": [
    "### b. We want to be able to do this for all pages. Write a function which takes as input a url and returns the description text on that page. For example, if you input \"https://realpython.github.io/fake-jobs/jobs/television-floor-manager-8.html\" into your function, it should return the string \"At be than ... special good along.\".  "
   ]
  },
  {
   "cell_type": "markdown",
   "id": "065e4c32",
   "metadata": {},
   "source": [
    "### c. Use the [.apply method](https://pandas.pydata.org/docs/reference/api/pandas.Series.apply.html) on the url column you created above to retrieve the description text for all of the jobs."
   ]
  },
  {
   "cell_type": "code",
   "execution_count": null,
   "id": "84c2af38",
   "metadata": {},
   "outputs": [],
   "source": []
  }
 ],
 "metadata": {
  "kernelspec": {
   "display_name": "Python 3 (ipykernel)",
   "language": "python",
   "name": "python3"
  },
  "language_info": {
   "codemirror_mode": {
    "name": "ipython",
    "version": 3
   },
   "file_extension": ".py",
   "mimetype": "text/x-python",
   "name": "python",
   "nbconvert_exporter": "python",
   "pygments_lexer": "ipython3",
   "version": "3.11.7"
  }
 },
 "nbformat": 4,
 "nbformat_minor": 5
}
