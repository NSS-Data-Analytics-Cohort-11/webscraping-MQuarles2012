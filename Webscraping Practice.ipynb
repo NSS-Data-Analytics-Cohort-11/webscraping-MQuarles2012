{
 "cells": [
  {
   "cell_type": "markdown",
   "id": "cb3f8c7e",
   "metadata": {},
   "source": [
    "# Webscraping\n",
    "\n",
    "In this exercise, you'll practice using BeautifulSoup to parse the content of a web page. The page that you'll be scraping, https://realpython.github.io/fake-jobs/, contains job listings. Your job is to extract the data on each job and convert into a pandas DataFrame.\n",
    "\n",
    "To retrieve the contents of a website, we will be using bthe [_requests_](https://requests.readthedocs.io/en/master/) library."
   ]
  },
  {
   "cell_type": "code",
   "execution_count": 1,
   "id": "5b49e02f",
   "metadata": {},
   "outputs": [],
   "source": [
    "#Import the requests library.\n",
    "import requests\n",
    "\n",
    "#Import beautiful soup, so we can prettify the text of the website\n",
    "from bs4 import BeautifulSoup as BS\n",
    "\n",
    "#other libraries that may or may not be used:\n",
    "from IPython.core.display import HTML\n",
    "import pandas as pd"
   ]
  },
  {
   "cell_type": "markdown",
   "id": "4e90dbdd",
   "metadata": {},
   "source": [
    "## 1. Start by performing a GET request on the url above and convert the response into a BeautifulSoup object.  "
   ]
  },
  {
   "cell_type": "code",
   "execution_count": 2,
   "id": "98b9d42b",
   "metadata": {},
   "outputs": [],
   "source": [
    "URL = 'https://realpython.github.io/fake-jobs/'\n",
    "\n",
    "response = requests.get(URL)"
   ]
  },
  {
   "cell_type": "markdown",
   "id": "717435a3",
   "metadata": {},
   "source": [
    "### a. Use the .find method to find the tag containing the first job title (\"Senior Python Developer\"). Hint: can you find a tag type and/or a class that could be helpful for extracting this information? Extract the text from this title"
   ]
  },
  {
   "cell_type": "code",
   "execution_count": 3,
   "id": "421c0288",
   "metadata": {},
   "outputs": [],
   "source": [
    "#Before we can use .find, we need to use an HTML parser to make it more readable\n",
    "soup = BS(response.text)"
   ]
  },
  {
   "cell_type": "code",
   "execution_count": 4,
   "id": "0b9035bd",
   "metadata": {},
   "outputs": [],
   "source": [
    "#print(soup.prettify())"
   ]
  },
  {
   "cell_type": "code",
   "execution_count": 5,
   "id": "fcbbe07b",
   "metadata": {
    "scrolled": true
   },
   "outputs": [
    {
     "data": {
      "text/plain": [
       "'Senior Python Developer'"
      ]
     },
     "execution_count": 5,
     "metadata": {},
     "output_type": "execute_result"
    }
   ],
   "source": [
    "#To find just the first job title:\n",
    "soup.find('h2').text"
   ]
  },
  {
   "cell_type": "markdown",
   "id": "361dd44e",
   "metadata": {},
   "source": [
    "### b. Now, use what you did for the first title, but extract the job title for all jobs on this page. Store the results in a list. "
   ]
  },
  {
   "cell_type": "code",
   "execution_count": 6,
   "id": "eb7cd9b1",
   "metadata": {},
   "outputs": [],
   "source": [
    "#To find all job titles:\n",
    "all_jobs = soup.findAll('h2')"
   ]
  },
  {
   "cell_type": "code",
   "execution_count": 7,
   "id": "bd8c9feb",
   "metadata": {},
   "outputs": [],
   "source": [
    "#Use a for loop to save each job title to a list\n",
    "#Fist create an empty list\n",
    "title = []\n",
    "\n",
    "#The use a for loop to extract each listing in the .findall call from above\n",
    "#create a variable to store just the text portion of the html string\n",
    "#make sure to use .strip in case there are extra spaces or breaks\n",
    "#append each text string to the empty list\n",
    "for listing in all_jobs:\n",
    "    j = listing.text.strip()\n",
    "    title.append(j)\n",
    "    \n",
    "#print result to confirm it worked\n",
    "#print(title)"
   ]
  },
  {
   "cell_type": "markdown",
   "id": "6e3f6fd2",
   "metadata": {},
   "source": [
    "### c. Finally, extract the companies, locations, and posting dates for each job. For example, the first job has a company of \"Payne, Roberts and Davis\", a location of \"Stewartbury, AA\", and a posting date of \"2021-04-08\". Ensure that the text that you extract is clean, meaning no extra spaces or other characters at the beginning or end.  "
   ]
  },
  {
   "cell_type": "code",
   "execution_count": 8,
   "id": "3dd36051",
   "metadata": {},
   "outputs": [],
   "source": [
    "#Adding company data:\n",
    "all_companies = soup.findAll('h3')\n",
    "company = []\n",
    "for listing in all_companies:\n",
    "    c = listing.text.strip()\n",
    "    company.append(c)\n",
    "    \n",
    "#print(company)"
   ]
  },
  {
   "cell_type": "code",
   "execution_count": 45,
   "id": "2454fa00",
   "metadata": {},
   "outputs": [],
   "source": [
    "#Adding locations\n",
    "all_locations = soup.findAll('p', {'class': 'location'})\n",
    "location = []\n",
    "for listing in all_locations:\n",
    "    l = listing.text.strip()\n",
    "    location.append(l)\n",
    "    \n",
    "#print(location)"
   ]
  },
  {
   "cell_type": "code",
   "execution_count": 46,
   "id": "d628f1b5",
   "metadata": {},
   "outputs": [],
   "source": [
    "#alternative code, from class review: \n",
    "location_alt = [loc.text.strip() for loc in all_locations]\n",
    "#print(location_alt)"
   ]
  },
  {
   "cell_type": "code",
   "execution_count": 10,
   "id": "641aa470",
   "metadata": {},
   "outputs": [],
   "source": [
    "#Adding posting dates\n",
    "all_dates = soup.findAll('time')\n",
    "date_posted = []\n",
    "for listing in all_dates:\n",
    "    d = listing.text.strip()\n",
    "    date_posted.append(d)\n",
    "    \n",
    "#print(date_posted)"
   ]
  },
  {
   "cell_type": "markdown",
   "id": "194027aa",
   "metadata": {},
   "source": [
    "### d. Take the lists that you have created and combine them into a pandas DataFrame. "
   ]
  },
  {
   "cell_type": "code",
   "execution_count": 11,
   "id": "f93860a5",
   "metadata": {},
   "outputs": [
    {
     "data": {
      "text/html": [
       "<div>\n",
       "<style scoped>\n",
       "    .dataframe tbody tr th:only-of-type {\n",
       "        vertical-align: middle;\n",
       "    }\n",
       "\n",
       "    .dataframe tbody tr th {\n",
       "        vertical-align: top;\n",
       "    }\n",
       "\n",
       "    .dataframe thead th {\n",
       "        text-align: right;\n",
       "    }\n",
       "</style>\n",
       "<table border=\"1\" class=\"dataframe\">\n",
       "  <thead>\n",
       "    <tr style=\"text-align: right;\">\n",
       "      <th></th>\n",
       "      <th>title</th>\n",
       "      <th>company</th>\n",
       "      <th>location</th>\n",
       "      <th>date_posted</th>\n",
       "    </tr>\n",
       "  </thead>\n",
       "  <tbody>\n",
       "    <tr>\n",
       "      <th>0</th>\n",
       "      <td>Senior Python Developer</td>\n",
       "      <td>Payne, Roberts and Davis</td>\n",
       "      <td>Stewartbury, AA</td>\n",
       "      <td>2021-04-08</td>\n",
       "    </tr>\n",
       "    <tr>\n",
       "      <th>1</th>\n",
       "      <td>Energy engineer</td>\n",
       "      <td>Vasquez-Davidson</td>\n",
       "      <td>Christopherville, AA</td>\n",
       "      <td>2021-04-08</td>\n",
       "    </tr>\n",
       "    <tr>\n",
       "      <th>2</th>\n",
       "      <td>Legal executive</td>\n",
       "      <td>Jackson, Chambers and Levy</td>\n",
       "      <td>Port Ericaburgh, AA</td>\n",
       "      <td>2021-04-08</td>\n",
       "    </tr>\n",
       "    <tr>\n",
       "      <th>3</th>\n",
       "      <td>Fitness centre manager</td>\n",
       "      <td>Savage-Bradley</td>\n",
       "      <td>East Seanview, AP</td>\n",
       "      <td>2021-04-08</td>\n",
       "    </tr>\n",
       "    <tr>\n",
       "      <th>4</th>\n",
       "      <td>Product manager</td>\n",
       "      <td>Ramirez Inc</td>\n",
       "      <td>North Jamieview, AP</td>\n",
       "      <td>2021-04-08</td>\n",
       "    </tr>\n",
       "    <tr>\n",
       "      <th>...</th>\n",
       "      <td>...</td>\n",
       "      <td>...</td>\n",
       "      <td>...</td>\n",
       "      <td>...</td>\n",
       "    </tr>\n",
       "    <tr>\n",
       "      <th>95</th>\n",
       "      <td>Museum/gallery exhibitions officer</td>\n",
       "      <td>Nguyen, Yoder and Petty</td>\n",
       "      <td>Lake Abigail, AE</td>\n",
       "      <td>2021-04-08</td>\n",
       "    </tr>\n",
       "    <tr>\n",
       "      <th>96</th>\n",
       "      <td>Radiographer, diagnostic</td>\n",
       "      <td>Holder LLC</td>\n",
       "      <td>Jacobshire, AP</td>\n",
       "      <td>2021-04-08</td>\n",
       "    </tr>\n",
       "    <tr>\n",
       "      <th>97</th>\n",
       "      <td>Database administrator</td>\n",
       "      <td>Yates-Ferguson</td>\n",
       "      <td>Port Susan, AE</td>\n",
       "      <td>2021-04-08</td>\n",
       "    </tr>\n",
       "    <tr>\n",
       "      <th>98</th>\n",
       "      <td>Furniture designer</td>\n",
       "      <td>Ortega-Lawrence</td>\n",
       "      <td>North Tiffany, AA</td>\n",
       "      <td>2021-04-08</td>\n",
       "    </tr>\n",
       "    <tr>\n",
       "      <th>99</th>\n",
       "      <td>Ship broker</td>\n",
       "      <td>Fuentes, Walls and Castro</td>\n",
       "      <td>Michelleville, AP</td>\n",
       "      <td>2021-04-08</td>\n",
       "    </tr>\n",
       "  </tbody>\n",
       "</table>\n",
       "<p>100 rows × 4 columns</p>\n",
       "</div>"
      ],
      "text/plain": [
       "                                 title                     company  \\\n",
       "0              Senior Python Developer    Payne, Roberts and Davis   \n",
       "1                      Energy engineer            Vasquez-Davidson   \n",
       "2                      Legal executive  Jackson, Chambers and Levy   \n",
       "3               Fitness centre manager              Savage-Bradley   \n",
       "4                      Product manager                 Ramirez Inc   \n",
       "..                                 ...                         ...   \n",
       "95  Museum/gallery exhibitions officer     Nguyen, Yoder and Petty   \n",
       "96            Radiographer, diagnostic                  Holder LLC   \n",
       "97              Database administrator              Yates-Ferguson   \n",
       "98                  Furniture designer             Ortega-Lawrence   \n",
       "99                         Ship broker   Fuentes, Walls and Castro   \n",
       "\n",
       "                location date_posted  \n",
       "0        Stewartbury, AA  2021-04-08  \n",
       "1   Christopherville, AA  2021-04-08  \n",
       "2    Port Ericaburgh, AA  2021-04-08  \n",
       "3      East Seanview, AP  2021-04-08  \n",
       "4    North Jamieview, AP  2021-04-08  \n",
       "..                   ...         ...  \n",
       "95      Lake Abigail, AE  2021-04-08  \n",
       "96        Jacobshire, AP  2021-04-08  \n",
       "97        Port Susan, AE  2021-04-08  \n",
       "98     North Tiffany, AA  2021-04-08  \n",
       "99     Michelleville, AP  2021-04-08  \n",
       "\n",
       "[100 rows x 4 columns]"
      ]
     },
     "execution_count": 11,
     "metadata": {},
     "output_type": "execute_result"
    }
   ],
   "source": [
    "jobs_df = pd.DataFrame({'title':title,'company':company,'location':location,'date_posted':date_posted})\n",
    "jobs_df"
   ]
  },
  {
   "cell_type": "markdown",
   "id": "47938d22",
   "metadata": {},
   "source": [
    "## 2. Next, add a column that contains the url for the \"Apply\" button. Try this in two ways."
   ]
  },
  {
   "cell_type": "markdown",
   "id": "cdc95dd2",
   "metadata": {},
   "source": [
    "### a. First, use the BeautifulSoup find_all method to extract the urls."
   ]
  },
  {
   "cell_type": "code",
   "execution_count": 49,
   "id": "74a340ca",
   "metadata": {},
   "outputs": [
    {
     "data": {
      "text/html": [
       "<div>\n",
       "<style scoped>\n",
       "    .dataframe tbody tr th:only-of-type {\n",
       "        vertical-align: middle;\n",
       "    }\n",
       "\n",
       "    .dataframe tbody tr th {\n",
       "        vertical-align: top;\n",
       "    }\n",
       "\n",
       "    .dataframe thead th {\n",
       "        text-align: right;\n",
       "    }\n",
       "</style>\n",
       "<table border=\"1\" class=\"dataframe\">\n",
       "  <thead>\n",
       "    <tr style=\"text-align: right;\">\n",
       "      <th></th>\n",
       "      <th>title</th>\n",
       "      <th>company</th>\n",
       "      <th>location</th>\n",
       "      <th>date_posted</th>\n",
       "      <th>link</th>\n",
       "    </tr>\n",
       "  </thead>\n",
       "  <tbody>\n",
       "    <tr>\n",
       "      <th>0</th>\n",
       "      <td>Senior Python Developer</td>\n",
       "      <td>Payne, Roberts and Davis</td>\n",
       "      <td>Stewartbury, AA</td>\n",
       "      <td>2021-04-08</td>\n",
       "      <td>https://realpython.github.io/fake-jobs/jobs/se...</td>\n",
       "    </tr>\n",
       "    <tr>\n",
       "      <th>1</th>\n",
       "      <td>Energy engineer</td>\n",
       "      <td>Vasquez-Davidson</td>\n",
       "      <td>Christopherville, AA</td>\n",
       "      <td>2021-04-08</td>\n",
       "      <td>https://realpython.github.io/fake-jobs/jobs/en...</td>\n",
       "    </tr>\n",
       "    <tr>\n",
       "      <th>2</th>\n",
       "      <td>Legal executive</td>\n",
       "      <td>Jackson, Chambers and Levy</td>\n",
       "      <td>Port Ericaburgh, AA</td>\n",
       "      <td>2021-04-08</td>\n",
       "      <td>https://realpython.github.io/fake-jobs/jobs/le...</td>\n",
       "    </tr>\n",
       "    <tr>\n",
       "      <th>3</th>\n",
       "      <td>Fitness centre manager</td>\n",
       "      <td>Savage-Bradley</td>\n",
       "      <td>East Seanview, AP</td>\n",
       "      <td>2021-04-08</td>\n",
       "      <td>https://realpython.github.io/fake-jobs/jobs/fi...</td>\n",
       "    </tr>\n",
       "    <tr>\n",
       "      <th>4</th>\n",
       "      <td>Product manager</td>\n",
       "      <td>Ramirez Inc</td>\n",
       "      <td>North Jamieview, AP</td>\n",
       "      <td>2021-04-08</td>\n",
       "      <td>https://realpython.github.io/fake-jobs/jobs/pr...</td>\n",
       "    </tr>\n",
       "    <tr>\n",
       "      <th>...</th>\n",
       "      <td>...</td>\n",
       "      <td>...</td>\n",
       "      <td>...</td>\n",
       "      <td>...</td>\n",
       "      <td>...</td>\n",
       "    </tr>\n",
       "    <tr>\n",
       "      <th>95</th>\n",
       "      <td>Museum/gallery exhibitions officer</td>\n",
       "      <td>Nguyen, Yoder and Petty</td>\n",
       "      <td>Lake Abigail, AE</td>\n",
       "      <td>2021-04-08</td>\n",
       "      <td>https://realpython.github.io/fake-jobs/jobs/mu...</td>\n",
       "    </tr>\n",
       "    <tr>\n",
       "      <th>96</th>\n",
       "      <td>Radiographer, diagnostic</td>\n",
       "      <td>Holder LLC</td>\n",
       "      <td>Jacobshire, AP</td>\n",
       "      <td>2021-04-08</td>\n",
       "      <td>https://realpython.github.io/fake-jobs/jobs/ra...</td>\n",
       "    </tr>\n",
       "    <tr>\n",
       "      <th>97</th>\n",
       "      <td>Database administrator</td>\n",
       "      <td>Yates-Ferguson</td>\n",
       "      <td>Port Susan, AE</td>\n",
       "      <td>2021-04-08</td>\n",
       "      <td>https://realpython.github.io/fake-jobs/jobs/da...</td>\n",
       "    </tr>\n",
       "    <tr>\n",
       "      <th>98</th>\n",
       "      <td>Furniture designer</td>\n",
       "      <td>Ortega-Lawrence</td>\n",
       "      <td>North Tiffany, AA</td>\n",
       "      <td>2021-04-08</td>\n",
       "      <td>https://realpython.github.io/fake-jobs/jobs/fu...</td>\n",
       "    </tr>\n",
       "    <tr>\n",
       "      <th>99</th>\n",
       "      <td>Ship broker</td>\n",
       "      <td>Fuentes, Walls and Castro</td>\n",
       "      <td>Michelleville, AP</td>\n",
       "      <td>2021-04-08</td>\n",
       "      <td>https://realpython.github.io/fake-jobs/jobs/sh...</td>\n",
       "    </tr>\n",
       "  </tbody>\n",
       "</table>\n",
       "<p>100 rows × 5 columns</p>\n",
       "</div>"
      ],
      "text/plain": [
       "                                 title                     company  \\\n",
       "0              Senior Python Developer    Payne, Roberts and Davis   \n",
       "1                      Energy engineer            Vasquez-Davidson   \n",
       "2                      Legal executive  Jackson, Chambers and Levy   \n",
       "3               Fitness centre manager              Savage-Bradley   \n",
       "4                      Product manager                 Ramirez Inc   \n",
       "..                                 ...                         ...   \n",
       "95  Museum/gallery exhibitions officer     Nguyen, Yoder and Petty   \n",
       "96            Radiographer, diagnostic                  Holder LLC   \n",
       "97              Database administrator              Yates-Ferguson   \n",
       "98                  Furniture designer             Ortega-Lawrence   \n",
       "99                         Ship broker   Fuentes, Walls and Castro   \n",
       "\n",
       "                location date_posted  \\\n",
       "0        Stewartbury, AA  2021-04-08   \n",
       "1   Christopherville, AA  2021-04-08   \n",
       "2    Port Ericaburgh, AA  2021-04-08   \n",
       "3      East Seanview, AP  2021-04-08   \n",
       "4    North Jamieview, AP  2021-04-08   \n",
       "..                   ...         ...   \n",
       "95      Lake Abigail, AE  2021-04-08   \n",
       "96        Jacobshire, AP  2021-04-08   \n",
       "97        Port Susan, AE  2021-04-08   \n",
       "98     North Tiffany, AA  2021-04-08   \n",
       "99     Michelleville, AP  2021-04-08   \n",
       "\n",
       "                                                 link  \n",
       "0   https://realpython.github.io/fake-jobs/jobs/se...  \n",
       "1   https://realpython.github.io/fake-jobs/jobs/en...  \n",
       "2   https://realpython.github.io/fake-jobs/jobs/le...  \n",
       "3   https://realpython.github.io/fake-jobs/jobs/fi...  \n",
       "4   https://realpython.github.io/fake-jobs/jobs/pr...  \n",
       "..                                                ...  \n",
       "95  https://realpython.github.io/fake-jobs/jobs/mu...  \n",
       "96  https://realpython.github.io/fake-jobs/jobs/ra...  \n",
       "97  https://realpython.github.io/fake-jobs/jobs/da...  \n",
       "98  https://realpython.github.io/fake-jobs/jobs/fu...  \n",
       "99  https://realpython.github.io/fake-jobs/jobs/sh...  \n",
       "\n",
       "[100 rows x 5 columns]"
      ]
     },
     "execution_count": 49,
     "metadata": {},
     "output_type": "execute_result"
    }
   ],
   "source": [
    "#Use a .findall() to extract all the <a> tags, assign to variable\n",
    "#Create empty list to put URLs in\n",
    "#Use a for loop to get each \"href\" inside the <a> tags and append it to the empty list\n",
    "#Use [1::2] to skip every other link bc there are two different types of links on the page\n",
    "#Create new column in the jobs_df table\n",
    "all_urls = soup.find_all('a')\n",
    "apply_urls = []\n",
    "for link in all_urls[1::2]:\n",
    "    apply_urls.append(link.get('href'))\n",
    "jobs_df['link'] = apply_urls\n",
    "jobs_df"
   ]
  },
  {
   "cell_type": "code",
   "execution_count": 51,
   "id": "5ce83d02",
   "metadata": {},
   "outputs": [
    {
     "name": "stdout",
     "output_type": "stream",
     "text": [
      "['https://realpython.github.io/fake-jobs/jobs/senior-python-developer-0.html', 'https://realpython.github.io/fake-jobs/jobs/energy-engineer-1.html', 'https://realpython.github.io/fake-jobs/jobs/legal-executive-2.html', 'https://realpython.github.io/fake-jobs/jobs/fitness-centre-manager-3.html', 'https://realpython.github.io/fake-jobs/jobs/product-manager-4.html', 'https://realpython.github.io/fake-jobs/jobs/medical-technical-officer-5.html', 'https://realpython.github.io/fake-jobs/jobs/physiological-scientist-6.html', 'https://realpython.github.io/fake-jobs/jobs/textile-designer-7.html', 'https://realpython.github.io/fake-jobs/jobs/television-floor-manager-8.html', 'https://realpython.github.io/fake-jobs/jobs/waste-management-officer-9.html', 'https://realpython.github.io/fake-jobs/jobs/software-engineer-python-10.html', 'https://realpython.github.io/fake-jobs/jobs/interpreter-11.html', 'https://realpython.github.io/fake-jobs/jobs/architect-12.html', 'https://realpython.github.io/fake-jobs/jobs/meteorologist-13.html', 'https://realpython.github.io/fake-jobs/jobs/audiological-scientist-14.html', 'https://realpython.github.io/fake-jobs/jobs/english-as-a-second-language-teacher-15.html', 'https://realpython.github.io/fake-jobs/jobs/surgeon-16.html', 'https://realpython.github.io/fake-jobs/jobs/equities-trader-17.html', 'https://realpython.github.io/fake-jobs/jobs/newspaper-journalist-18.html', 'https://realpython.github.io/fake-jobs/jobs/materials-engineer-19.html', 'https://realpython.github.io/fake-jobs/jobs/python-programmer-entry-level-20.html', 'https://realpython.github.io/fake-jobs/jobs/product-process-development-scientist-21.html', 'https://realpython.github.io/fake-jobs/jobs/scientist-research-maths-22.html', 'https://realpython.github.io/fake-jobs/jobs/ecologist-23.html', 'https://realpython.github.io/fake-jobs/jobs/materials-engineer-24.html', 'https://realpython.github.io/fake-jobs/jobs/historic-buildings-inspector-conservation-officer-25.html', 'https://realpython.github.io/fake-jobs/jobs/data-scientist-26.html', 'https://realpython.github.io/fake-jobs/jobs/psychiatrist-27.html', 'https://realpython.github.io/fake-jobs/jobs/structural-engineer-28.html', 'https://realpython.github.io/fake-jobs/jobs/immigration-officer-29.html', 'https://realpython.github.io/fake-jobs/jobs/python-programmer-entry-level-30.html', 'https://realpython.github.io/fake-jobs/jobs/neurosurgeon-31.html', 'https://realpython.github.io/fake-jobs/jobs/broadcast-engineer-32.html', 'https://realpython.github.io/fake-jobs/jobs/make-33.html', 'https://realpython.github.io/fake-jobs/jobs/nurse-adult-34.html', 'https://realpython.github.io/fake-jobs/jobs/air-broker-35.html', 'https://realpython.github.io/fake-jobs/jobs/editor-film-video-36.html', 'https://realpython.github.io/fake-jobs/jobs/production-assistant-radio-37.html', 'https://realpython.github.io/fake-jobs/jobs/engineer-communications-38.html', 'https://realpython.github.io/fake-jobs/jobs/sales-executive-39.html', 'https://realpython.github.io/fake-jobs/jobs/software-developer-python-40.html', 'https://realpython.github.io/fake-jobs/jobs/futures-trader-41.html', 'https://realpython.github.io/fake-jobs/jobs/tour-manager-42.html', 'https://realpython.github.io/fake-jobs/jobs/cytogeneticist-43.html', 'https://realpython.github.io/fake-jobs/jobs/designer-multimedia-44.html', 'https://realpython.github.io/fake-jobs/jobs/trade-union-research-officer-45.html', 'https://realpython.github.io/fake-jobs/jobs/chemist-analytical-46.html', 'https://realpython.github.io/fake-jobs/jobs/programmer-multimedia-47.html', 'https://realpython.github.io/fake-jobs/jobs/engineer-broadcasting-operations-48.html', 'https://realpython.github.io/fake-jobs/jobs/teacher-primary-school-49.html', 'https://realpython.github.io/fake-jobs/jobs/python-developer-50.html', 'https://realpython.github.io/fake-jobs/jobs/manufacturing-systems-engineer-51.html', 'https://realpython.github.io/fake-jobs/jobs/producer-television-film-video-52.html', 'https://realpython.github.io/fake-jobs/jobs/scientist-forensic-53.html', 'https://realpython.github.io/fake-jobs/jobs/bonds-trader-54.html', 'https://realpython.github.io/fake-jobs/jobs/editorial-assistant-55.html', 'https://realpython.github.io/fake-jobs/jobs/photographer-56.html', 'https://realpython.github.io/fake-jobs/jobs/retail-banker-57.html', 'https://realpython.github.io/fake-jobs/jobs/jewellery-designer-58.html', 'https://realpython.github.io/fake-jobs/jobs/ophthalmologist-59.html', 'https://realpython.github.io/fake-jobs/jobs/back-end-web-developer-python-django-60.html', 'https://realpython.github.io/fake-jobs/jobs/licensed-conveyancer-61.html', 'https://realpython.github.io/fake-jobs/jobs/futures-trader-62.html', 'https://realpython.github.io/fake-jobs/jobs/counselling-psychologist-63.html', 'https://realpython.github.io/fake-jobs/jobs/insurance-underwriter-64.html', 'https://realpython.github.io/fake-jobs/jobs/engineer-automotive-65.html', 'https://realpython.github.io/fake-jobs/jobs/producer-radio-66.html', 'https://realpython.github.io/fake-jobs/jobs/dispensing-optician-67.html', 'https://realpython.github.io/fake-jobs/jobs/designer-fashion-clothing-68.html', 'https://realpython.github.io/fake-jobs/jobs/chartered-loss-adjuster-69.html', 'https://realpython.github.io/fake-jobs/jobs/back-end-web-developer-python-django-70.html', 'https://realpython.github.io/fake-jobs/jobs/forest-woodland-manager-71.html', 'https://realpython.github.io/fake-jobs/jobs/clinical-cytogeneticist-72.html', 'https://realpython.github.io/fake-jobs/jobs/print-production-planner-73.html', 'https://realpython.github.io/fake-jobs/jobs/systems-developer-74.html', 'https://realpython.github.io/fake-jobs/jobs/graphic-designer-75.html', 'https://realpython.github.io/fake-jobs/jobs/writer-76.html', 'https://realpython.github.io/fake-jobs/jobs/field-seismologist-77.html', 'https://realpython.github.io/fake-jobs/jobs/chief-strategy-officer-78.html', 'https://realpython.github.io/fake-jobs/jobs/air-cabin-crew-79.html', 'https://realpython.github.io/fake-jobs/jobs/python-programmer-entry-level-80.html', 'https://realpython.github.io/fake-jobs/jobs/warden-ranger-81.html', 'https://realpython.github.io/fake-jobs/jobs/sports-therapist-82.html', 'https://realpython.github.io/fake-jobs/jobs/arts-development-officer-83.html', 'https://realpython.github.io/fake-jobs/jobs/printmaker-84.html', 'https://realpython.github.io/fake-jobs/jobs/health-and-safety-adviser-85.html', 'https://realpython.github.io/fake-jobs/jobs/manufacturing-systems-engineer-86.html', 'https://realpython.github.io/fake-jobs/jobs/programmer-applications-87.html', 'https://realpython.github.io/fake-jobs/jobs/medical-physicist-88.html', 'https://realpython.github.io/fake-jobs/jobs/media-planner-89.html', 'https://realpython.github.io/fake-jobs/jobs/software-developer-python-90.html', 'https://realpython.github.io/fake-jobs/jobs/surveyor-land-geomatics-91.html', 'https://realpython.github.io/fake-jobs/jobs/legal-executive-92.html', 'https://realpython.github.io/fake-jobs/jobs/librarian-academic-93.html', 'https://realpython.github.io/fake-jobs/jobs/barrister-94.html', 'https://realpython.github.io/fake-jobs/jobs/museum-gallery-exhibitions-officer-95.html', 'https://realpython.github.io/fake-jobs/jobs/radiographer-diagnostic-96.html', 'https://realpython.github.io/fake-jobs/jobs/database-administrator-97.html', 'https://realpython.github.io/fake-jobs/jobs/furniture-designer-98.html', 'https://realpython.github.io/fake-jobs/jobs/ship-broker-99.html']\n"
     ]
    }
   ],
   "source": [
    "#alternative: \n",
    "all_footers = soup.findAll(class_='card-footer')\n",
    "apply_urls = [footer.findAll('a')[1]['href'] for footer in all_footers]\n",
    "print(apply_urls)"
   ]
  },
  {
   "cell_type": "code",
   "execution_count": 53,
   "id": "db4abc53",
   "metadata": {},
   "outputs": [
    {
     "name": "stdout",
     "output_type": "stream",
     "text": [
      "['https://realpython.github.io/fake-jobs/jobs/senior-python-developer-0.html', 'https://realpython.github.io/fake-jobs/jobs/energy-engineer-1.html', 'https://realpython.github.io/fake-jobs/jobs/legal-executive-2.html', 'https://realpython.github.io/fake-jobs/jobs/fitness-centre-manager-3.html', 'https://realpython.github.io/fake-jobs/jobs/product-manager-4.html', 'https://realpython.github.io/fake-jobs/jobs/medical-technical-officer-5.html', 'https://realpython.github.io/fake-jobs/jobs/physiological-scientist-6.html', 'https://realpython.github.io/fake-jobs/jobs/textile-designer-7.html', 'https://realpython.github.io/fake-jobs/jobs/television-floor-manager-8.html', 'https://realpython.github.io/fake-jobs/jobs/waste-management-officer-9.html', 'https://realpython.github.io/fake-jobs/jobs/software-engineer-python-10.html', 'https://realpython.github.io/fake-jobs/jobs/interpreter-11.html', 'https://realpython.github.io/fake-jobs/jobs/architect-12.html', 'https://realpython.github.io/fake-jobs/jobs/meteorologist-13.html', 'https://realpython.github.io/fake-jobs/jobs/audiological-scientist-14.html', 'https://realpython.github.io/fake-jobs/jobs/english-as-a-second-language-teacher-15.html', 'https://realpython.github.io/fake-jobs/jobs/surgeon-16.html', 'https://realpython.github.io/fake-jobs/jobs/equities-trader-17.html', 'https://realpython.github.io/fake-jobs/jobs/newspaper-journalist-18.html', 'https://realpython.github.io/fake-jobs/jobs/materials-engineer-19.html', 'https://realpython.github.io/fake-jobs/jobs/python-programmer-entry-level-20.html', 'https://realpython.github.io/fake-jobs/jobs/product-process-development-scientist-21.html', 'https://realpython.github.io/fake-jobs/jobs/scientist-research-maths-22.html', 'https://realpython.github.io/fake-jobs/jobs/ecologist-23.html', 'https://realpython.github.io/fake-jobs/jobs/materials-engineer-24.html', 'https://realpython.github.io/fake-jobs/jobs/historic-buildings-inspector-conservation-officer-25.html', 'https://realpython.github.io/fake-jobs/jobs/data-scientist-26.html', 'https://realpython.github.io/fake-jobs/jobs/psychiatrist-27.html', 'https://realpython.github.io/fake-jobs/jobs/structural-engineer-28.html', 'https://realpython.github.io/fake-jobs/jobs/immigration-officer-29.html', 'https://realpython.github.io/fake-jobs/jobs/python-programmer-entry-level-30.html', 'https://realpython.github.io/fake-jobs/jobs/neurosurgeon-31.html', 'https://realpython.github.io/fake-jobs/jobs/broadcast-engineer-32.html', 'https://realpython.github.io/fake-jobs/jobs/make-33.html', 'https://realpython.github.io/fake-jobs/jobs/nurse-adult-34.html', 'https://realpython.github.io/fake-jobs/jobs/air-broker-35.html', 'https://realpython.github.io/fake-jobs/jobs/editor-film-video-36.html', 'https://realpython.github.io/fake-jobs/jobs/production-assistant-radio-37.html', 'https://realpython.github.io/fake-jobs/jobs/engineer-communications-38.html', 'https://realpython.github.io/fake-jobs/jobs/sales-executive-39.html', 'https://realpython.github.io/fake-jobs/jobs/software-developer-python-40.html', 'https://realpython.github.io/fake-jobs/jobs/futures-trader-41.html', 'https://realpython.github.io/fake-jobs/jobs/tour-manager-42.html', 'https://realpython.github.io/fake-jobs/jobs/cytogeneticist-43.html', 'https://realpython.github.io/fake-jobs/jobs/designer-multimedia-44.html', 'https://realpython.github.io/fake-jobs/jobs/trade-union-research-officer-45.html', 'https://realpython.github.io/fake-jobs/jobs/chemist-analytical-46.html', 'https://realpython.github.io/fake-jobs/jobs/programmer-multimedia-47.html', 'https://realpython.github.io/fake-jobs/jobs/engineer-broadcasting-operations-48.html', 'https://realpython.github.io/fake-jobs/jobs/teacher-primary-school-49.html', 'https://realpython.github.io/fake-jobs/jobs/python-developer-50.html', 'https://realpython.github.io/fake-jobs/jobs/manufacturing-systems-engineer-51.html', 'https://realpython.github.io/fake-jobs/jobs/producer-television-film-video-52.html', 'https://realpython.github.io/fake-jobs/jobs/scientist-forensic-53.html', 'https://realpython.github.io/fake-jobs/jobs/bonds-trader-54.html', 'https://realpython.github.io/fake-jobs/jobs/editorial-assistant-55.html', 'https://realpython.github.io/fake-jobs/jobs/photographer-56.html', 'https://realpython.github.io/fake-jobs/jobs/retail-banker-57.html', 'https://realpython.github.io/fake-jobs/jobs/jewellery-designer-58.html', 'https://realpython.github.io/fake-jobs/jobs/ophthalmologist-59.html', 'https://realpython.github.io/fake-jobs/jobs/back-end-web-developer-python-django-60.html', 'https://realpython.github.io/fake-jobs/jobs/licensed-conveyancer-61.html', 'https://realpython.github.io/fake-jobs/jobs/futures-trader-62.html', 'https://realpython.github.io/fake-jobs/jobs/counselling-psychologist-63.html', 'https://realpython.github.io/fake-jobs/jobs/insurance-underwriter-64.html', 'https://realpython.github.io/fake-jobs/jobs/engineer-automotive-65.html', 'https://realpython.github.io/fake-jobs/jobs/producer-radio-66.html', 'https://realpython.github.io/fake-jobs/jobs/dispensing-optician-67.html', 'https://realpython.github.io/fake-jobs/jobs/designer-fashion-clothing-68.html', 'https://realpython.github.io/fake-jobs/jobs/chartered-loss-adjuster-69.html', 'https://realpython.github.io/fake-jobs/jobs/back-end-web-developer-python-django-70.html', 'https://realpython.github.io/fake-jobs/jobs/forest-woodland-manager-71.html', 'https://realpython.github.io/fake-jobs/jobs/clinical-cytogeneticist-72.html', 'https://realpython.github.io/fake-jobs/jobs/print-production-planner-73.html', 'https://realpython.github.io/fake-jobs/jobs/systems-developer-74.html', 'https://realpython.github.io/fake-jobs/jobs/graphic-designer-75.html', 'https://realpython.github.io/fake-jobs/jobs/writer-76.html', 'https://realpython.github.io/fake-jobs/jobs/field-seismologist-77.html', 'https://realpython.github.io/fake-jobs/jobs/chief-strategy-officer-78.html', 'https://realpython.github.io/fake-jobs/jobs/air-cabin-crew-79.html', 'https://realpython.github.io/fake-jobs/jobs/python-programmer-entry-level-80.html', 'https://realpython.github.io/fake-jobs/jobs/warden-ranger-81.html', 'https://realpython.github.io/fake-jobs/jobs/sports-therapist-82.html', 'https://realpython.github.io/fake-jobs/jobs/arts-development-officer-83.html', 'https://realpython.github.io/fake-jobs/jobs/printmaker-84.html', 'https://realpython.github.io/fake-jobs/jobs/health-and-safety-adviser-85.html', 'https://realpython.github.io/fake-jobs/jobs/manufacturing-systems-engineer-86.html', 'https://realpython.github.io/fake-jobs/jobs/programmer-applications-87.html', 'https://realpython.github.io/fake-jobs/jobs/medical-physicist-88.html', 'https://realpython.github.io/fake-jobs/jobs/media-planner-89.html', 'https://realpython.github.io/fake-jobs/jobs/software-developer-python-90.html', 'https://realpython.github.io/fake-jobs/jobs/surveyor-land-geomatics-91.html', 'https://realpython.github.io/fake-jobs/jobs/legal-executive-92.html', 'https://realpython.github.io/fake-jobs/jobs/librarian-academic-93.html', 'https://realpython.github.io/fake-jobs/jobs/barrister-94.html', 'https://realpython.github.io/fake-jobs/jobs/museum-gallery-exhibitions-officer-95.html', 'https://realpython.github.io/fake-jobs/jobs/radiographer-diagnostic-96.html', 'https://realpython.github.io/fake-jobs/jobs/database-administrator-97.html', 'https://realpython.github.io/fake-jobs/jobs/furniture-designer-98.html', 'https://realpython.github.io/fake-jobs/jobs/ship-broker-99.html']\n"
     ]
    }
   ],
   "source": [
    "#Dibran's code, from class review: \n",
    "urls = []\n",
    "for x in soup.find_all('a'):\n",
    "    if 'jobs' in x['href']:\n",
    "        urls.append(x['href'])\n",
    "        \n",
    "print(urls)"
   ]
  },
  {
   "cell_type": "markdown",
   "id": "5e04d36b",
   "metadata": {},
   "source": [
    "### b. Next, get those same urls in a different way. Examine the urls and see if you can spot the pattern of how they are constructed. Then, build the url using the elements you have already extracted. Ensure that the urls that you created match those that you extracted using BeautifulSoup. Warning: You will need to do some string cleaning and prep in constructing the urls this way. For example, look carefully at the urls for the \"Software Engineer (Python)\" job and the \"Scientist, research (maths)\" job."
   ]
  },
  {
   "cell_type": "code",
   "execution_count": 56,
   "id": "a01a2819",
   "metadata": {},
   "outputs": [
    {
     "data": {
      "text/plain": [
       "0     https://realpython.github.io/fake-jobs/jobs/se...\n",
       "1     https://realpython.github.io/fake-jobs/jobs/en...\n",
       "2     https://realpython.github.io/fake-jobs/jobs/le...\n",
       "3     https://realpython.github.io/fake-jobs/jobs/fi...\n",
       "4     https://realpython.github.io/fake-jobs/jobs/pr...\n",
       "                            ...                        \n",
       "95    https://realpython.github.io/fake-jobs/jobs/mu...\n",
       "96    https://realpython.github.io/fake-jobs/jobs/ra...\n",
       "97    https://realpython.github.io/fake-jobs/jobs/da...\n",
       "98    https://realpython.github.io/fake-jobs/jobs/fu...\n",
       "99    https://realpython.github.io/fake-jobs/jobs/sh...\n",
       "Length: 100, dtype: object"
      ]
     },
     "execution_count": 56,
     "metadata": {},
     "output_type": "execute_result"
    }
   ],
   "source": [
    "#https://realpython.github.io/fake-jobs/jobs/software-engineer-python-10.html\n",
    "#https://realpython.github.io/fake-jobs/jobs/scientist-research-maths-22.html\n",
    "\n",
    "#Dibran's answer:\n",
    "'https://realpython.github.io/fake-jobs/jobs/' + (\n",
    "    jobs_df['title']\n",
    "    .str.lower()\n",
    "    .str.replace('[\\s/]', '-', regex = True)\n",
    "    .str.replace('[(),]', '', regex = True)\n",
    ") + '-' + jobs_df.index.astype(str) + '.html'"
   ]
  },
  {
   "cell_type": "markdown",
   "id": "01baf538",
   "metadata": {},
   "source": [
    "## 3. Finally, we want to get the job description text for each job."
   ]
  },
  {
   "cell_type": "markdown",
   "id": "4d8cd470",
   "metadata": {},
   "source": [
    "### a. Start by looking at the page for the first job, https://realpython.github.io/fake-jobs/jobs/senior-python-developer-0.html. Using BeautifulSoup, extract the job description paragraph. "
   ]
  },
  {
   "cell_type": "code",
   "execution_count": 20,
   "id": "4c82bede",
   "metadata": {},
   "outputs": [],
   "source": [
    "#Convert URL into a BS object using requests.get\n",
    "single_job = 'https://realpython.github.io/fake-jobs/jobs/senior-python-developer-0.html'\n",
    "single_job_response = requests.get(single_job)\n",
    "\n",
    "#Use the HTML parser to make it more readable\n",
    "soup_2 = BS(single_job_response.text)"
   ]
  },
  {
   "cell_type": "code",
   "execution_count": 57,
   "id": "35978d22",
   "metadata": {},
   "outputs": [
    {
     "name": "stdout",
     "output_type": "stream",
     "text": [
      "Professional asset web application environmentally friendly detail-oriented asset. Coordinate educational dashboard agile employ growth opportunity. Company programs CSS explore role. Html educational grit web application. Oversea SCRUM talented support. Web Application fast-growing communities inclusive programs job CSS. Css discussions growth opportunity explore open-minded oversee. Css Python environmentally friendly collaborate inclusive role. Django no experience oversee dashboard environmentally friendly willing to learn programs. Programs open-minded programs asset.\n"
     ]
    }
   ],
   "source": [
    "body = soup_2.find('div', {'class':'content'}).find('p').text\n",
    "print(body)"
   ]
  },
  {
   "cell_type": "markdown",
   "id": "3cf059ee",
   "metadata": {},
   "source": [
    "### b. We want to be able to do this for all pages. Write a function which takes as input a url and returns the description text on that page. For example, if you input \"https://realpython.github.io/fake-jobs/jobs/television-floor-manager-8.html\" into your function, it should return the string \"At be than ... special good along.\".  "
   ]
  },
  {
   "cell_type": "code",
   "execution_count": 58,
   "id": "e1aa43c7",
   "metadata": {},
   "outputs": [],
   "source": [
    "def get_job_desc(url): \n",
    "    response = requests.get(url)\n",
    "    soup = BS(response.text)\n",
    "    return soup.find('div', {'class':'content'}).find('p').text"
   ]
  },
  {
   "cell_type": "markdown",
   "id": "0c120d18",
   "metadata": {},
   "source": [
    "### c. Use the [.apply method](https://pandas.pydata.org/docs/reference/api/pandas.Series.apply.html) on the url column you created above to retrieve the description text for all of the jobs."
   ]
  },
  {
   "cell_type": "code",
   "execution_count": 59,
   "id": "fd38b76f",
   "metadata": {},
   "outputs": [
    {
     "name": "stdout",
     "output_type": "stream",
     "text": [
      "                                 title                     company  \\\n",
      "0              Senior Python Developer    Payne, Roberts and Davis   \n",
      "1                      Energy engineer            Vasquez-Davidson   \n",
      "2                      Legal executive  Jackson, Chambers and Levy   \n",
      "3               Fitness centre manager              Savage-Bradley   \n",
      "4                      Product manager                 Ramirez Inc   \n",
      "..                                 ...                         ...   \n",
      "95  Museum/gallery exhibitions officer     Nguyen, Yoder and Petty   \n",
      "96            Radiographer, diagnostic                  Holder LLC   \n",
      "97              Database administrator              Yates-Ferguson   \n",
      "98                  Furniture designer             Ortega-Lawrence   \n",
      "99                         Ship broker   Fuentes, Walls and Castro   \n",
      "\n",
      "                location date_posted  \\\n",
      "0        Stewartbury, AA  2021-04-08   \n",
      "1   Christopherville, AA  2021-04-08   \n",
      "2    Port Ericaburgh, AA  2021-04-08   \n",
      "3      East Seanview, AP  2021-04-08   \n",
      "4    North Jamieview, AP  2021-04-08   \n",
      "..                   ...         ...   \n",
      "95      Lake Abigail, AE  2021-04-08   \n",
      "96        Jacobshire, AP  2021-04-08   \n",
      "97        Port Susan, AE  2021-04-08   \n",
      "98     North Tiffany, AA  2021-04-08   \n",
      "99     Michelleville, AP  2021-04-08   \n",
      "\n",
      "                                                 link  \\\n",
      "0   https://realpython.github.io/fake-jobs/jobs/se...   \n",
      "1   https://realpython.github.io/fake-jobs/jobs/en...   \n",
      "2   https://realpython.github.io/fake-jobs/jobs/le...   \n",
      "3   https://realpython.github.io/fake-jobs/jobs/fi...   \n",
      "4   https://realpython.github.io/fake-jobs/jobs/pr...   \n",
      "..                                                ...   \n",
      "95  https://realpython.github.io/fake-jobs/jobs/mu...   \n",
      "96  https://realpython.github.io/fake-jobs/jobs/ra...   \n",
      "97  https://realpython.github.io/fake-jobs/jobs/da...   \n",
      "98  https://realpython.github.io/fake-jobs/jobs/fu...   \n",
      "99  https://realpython.github.io/fake-jobs/jobs/sh...   \n",
      "\n",
      "                                      job_description  \n",
      "0   Professional asset web application environment...  \n",
      "1   Party prevent live. Quickly candidate change a...  \n",
      "2   Administration even relate head color. Staff b...  \n",
      "3   Tv program actually race tonight themselves tr...  \n",
      "4   Traditional page a although for study anyone. ...  \n",
      "..                                                ...  \n",
      "95  Paper age physical current note. There reality...  \n",
      "96  Able such right culture. Wrong pick structure ...  \n",
      "97  Create day party decade high clear. Past trade...  \n",
      "98  Pressure under rock next week. Recognize so re...  \n",
      "99  Management common popular project only. Must s...  \n",
      "\n",
      "[100 rows x 6 columns]\n"
     ]
    }
   ],
   "source": [
    "jobs_df['job_description'] = jobs_df['link'].apply(get_job_desc)\n",
    "jobs_df"
   ]
  },
  {
   "cell_type": "code",
   "execution_count": 60,
   "id": "5afb5c88",
   "metadata": {},
   "outputs": [
    {
     "data": {
      "text/html": [
       "<div>\n",
       "<style scoped>\n",
       "    .dataframe tbody tr th:only-of-type {\n",
       "        vertical-align: middle;\n",
       "    }\n",
       "\n",
       "    .dataframe tbody tr th {\n",
       "        vertical-align: top;\n",
       "    }\n",
       "\n",
       "    .dataframe thead th {\n",
       "        text-align: right;\n",
       "    }\n",
       "</style>\n",
       "<table border=\"1\" class=\"dataframe\">\n",
       "  <thead>\n",
       "    <tr style=\"text-align: right;\">\n",
       "      <th></th>\n",
       "      <th>title</th>\n",
       "      <th>company</th>\n",
       "      <th>location</th>\n",
       "      <th>date_posted</th>\n",
       "      <th>link</th>\n",
       "      <th>job_description</th>\n",
       "    </tr>\n",
       "  </thead>\n",
       "  <tbody>\n",
       "    <tr>\n",
       "      <th>0</th>\n",
       "      <td>Senior Python Developer</td>\n",
       "      <td>Payne, Roberts and Davis</td>\n",
       "      <td>Stewartbury, AA</td>\n",
       "      <td>2021-04-08</td>\n",
       "      <td>https://realpython.github.io/fake-jobs/jobs/se...</td>\n",
       "      <td>Professional asset web application environment...</td>\n",
       "    </tr>\n",
       "    <tr>\n",
       "      <th>1</th>\n",
       "      <td>Energy engineer</td>\n",
       "      <td>Vasquez-Davidson</td>\n",
       "      <td>Christopherville, AA</td>\n",
       "      <td>2021-04-08</td>\n",
       "      <td>https://realpython.github.io/fake-jobs/jobs/en...</td>\n",
       "      <td>Party prevent live. Quickly candidate change a...</td>\n",
       "    </tr>\n",
       "    <tr>\n",
       "      <th>2</th>\n",
       "      <td>Legal executive</td>\n",
       "      <td>Jackson, Chambers and Levy</td>\n",
       "      <td>Port Ericaburgh, AA</td>\n",
       "      <td>2021-04-08</td>\n",
       "      <td>https://realpython.github.io/fake-jobs/jobs/le...</td>\n",
       "      <td>Administration even relate head color. Staff b...</td>\n",
       "    </tr>\n",
       "    <tr>\n",
       "      <th>3</th>\n",
       "      <td>Fitness centre manager</td>\n",
       "      <td>Savage-Bradley</td>\n",
       "      <td>East Seanview, AP</td>\n",
       "      <td>2021-04-08</td>\n",
       "      <td>https://realpython.github.io/fake-jobs/jobs/fi...</td>\n",
       "      <td>Tv program actually race tonight themselves tr...</td>\n",
       "    </tr>\n",
       "    <tr>\n",
       "      <th>4</th>\n",
       "      <td>Product manager</td>\n",
       "      <td>Ramirez Inc</td>\n",
       "      <td>North Jamieview, AP</td>\n",
       "      <td>2021-04-08</td>\n",
       "      <td>https://realpython.github.io/fake-jobs/jobs/pr...</td>\n",
       "      <td>Traditional page a although for study anyone. ...</td>\n",
       "    </tr>\n",
       "    <tr>\n",
       "      <th>...</th>\n",
       "      <td>...</td>\n",
       "      <td>...</td>\n",
       "      <td>...</td>\n",
       "      <td>...</td>\n",
       "      <td>...</td>\n",
       "      <td>...</td>\n",
       "    </tr>\n",
       "    <tr>\n",
       "      <th>95</th>\n",
       "      <td>Museum/gallery exhibitions officer</td>\n",
       "      <td>Nguyen, Yoder and Petty</td>\n",
       "      <td>Lake Abigail, AE</td>\n",
       "      <td>2021-04-08</td>\n",
       "      <td>https://realpython.github.io/fake-jobs/jobs/mu...</td>\n",
       "      <td>Paper age physical current note. There reality...</td>\n",
       "    </tr>\n",
       "    <tr>\n",
       "      <th>96</th>\n",
       "      <td>Radiographer, diagnostic</td>\n",
       "      <td>Holder LLC</td>\n",
       "      <td>Jacobshire, AP</td>\n",
       "      <td>2021-04-08</td>\n",
       "      <td>https://realpython.github.io/fake-jobs/jobs/ra...</td>\n",
       "      <td>Able such right culture. Wrong pick structure ...</td>\n",
       "    </tr>\n",
       "    <tr>\n",
       "      <th>97</th>\n",
       "      <td>Database administrator</td>\n",
       "      <td>Yates-Ferguson</td>\n",
       "      <td>Port Susan, AE</td>\n",
       "      <td>2021-04-08</td>\n",
       "      <td>https://realpython.github.io/fake-jobs/jobs/da...</td>\n",
       "      <td>Create day party decade high clear. Past trade...</td>\n",
       "    </tr>\n",
       "    <tr>\n",
       "      <th>98</th>\n",
       "      <td>Furniture designer</td>\n",
       "      <td>Ortega-Lawrence</td>\n",
       "      <td>North Tiffany, AA</td>\n",
       "      <td>2021-04-08</td>\n",
       "      <td>https://realpython.github.io/fake-jobs/jobs/fu...</td>\n",
       "      <td>Pressure under rock next week. Recognize so re...</td>\n",
       "    </tr>\n",
       "    <tr>\n",
       "      <th>99</th>\n",
       "      <td>Ship broker</td>\n",
       "      <td>Fuentes, Walls and Castro</td>\n",
       "      <td>Michelleville, AP</td>\n",
       "      <td>2021-04-08</td>\n",
       "      <td>https://realpython.github.io/fake-jobs/jobs/sh...</td>\n",
       "      <td>Management common popular project only. Must s...</td>\n",
       "    </tr>\n",
       "  </tbody>\n",
       "</table>\n",
       "<p>100 rows × 6 columns</p>\n",
       "</div>"
      ],
      "text/plain": [
       "                                 title                     company  \\\n",
       "0              Senior Python Developer    Payne, Roberts and Davis   \n",
       "1                      Energy engineer            Vasquez-Davidson   \n",
       "2                      Legal executive  Jackson, Chambers and Levy   \n",
       "3               Fitness centre manager              Savage-Bradley   \n",
       "4                      Product manager                 Ramirez Inc   \n",
       "..                                 ...                         ...   \n",
       "95  Museum/gallery exhibitions officer     Nguyen, Yoder and Petty   \n",
       "96            Radiographer, diagnostic                  Holder LLC   \n",
       "97              Database administrator              Yates-Ferguson   \n",
       "98                  Furniture designer             Ortega-Lawrence   \n",
       "99                         Ship broker   Fuentes, Walls and Castro   \n",
       "\n",
       "                location date_posted  \\\n",
       "0        Stewartbury, AA  2021-04-08   \n",
       "1   Christopherville, AA  2021-04-08   \n",
       "2    Port Ericaburgh, AA  2021-04-08   \n",
       "3      East Seanview, AP  2021-04-08   \n",
       "4    North Jamieview, AP  2021-04-08   \n",
       "..                   ...         ...   \n",
       "95      Lake Abigail, AE  2021-04-08   \n",
       "96        Jacobshire, AP  2021-04-08   \n",
       "97        Port Susan, AE  2021-04-08   \n",
       "98     North Tiffany, AA  2021-04-08   \n",
       "99     Michelleville, AP  2021-04-08   \n",
       "\n",
       "                                                 link  \\\n",
       "0   https://realpython.github.io/fake-jobs/jobs/se...   \n",
       "1   https://realpython.github.io/fake-jobs/jobs/en...   \n",
       "2   https://realpython.github.io/fake-jobs/jobs/le...   \n",
       "3   https://realpython.github.io/fake-jobs/jobs/fi...   \n",
       "4   https://realpython.github.io/fake-jobs/jobs/pr...   \n",
       "..                                                ...   \n",
       "95  https://realpython.github.io/fake-jobs/jobs/mu...   \n",
       "96  https://realpython.github.io/fake-jobs/jobs/ra...   \n",
       "97  https://realpython.github.io/fake-jobs/jobs/da...   \n",
       "98  https://realpython.github.io/fake-jobs/jobs/fu...   \n",
       "99  https://realpython.github.io/fake-jobs/jobs/sh...   \n",
       "\n",
       "                                      job_description  \n",
       "0   Professional asset web application environment...  \n",
       "1   Party prevent live. Quickly candidate change a...  \n",
       "2   Administration even relate head color. Staff b...  \n",
       "3   Tv program actually race tonight themselves tr...  \n",
       "4   Traditional page a although for study anyone. ...  \n",
       "..                                                ...  \n",
       "95  Paper age physical current note. There reality...  \n",
       "96  Able such right culture. Wrong pick structure ...  \n",
       "97  Create day party decade high clear. Past trade...  \n",
       "98  Pressure under rock next week. Recognize so re...  \n",
       "99  Management common popular project only. Must s...  \n",
       "\n",
       "[100 rows x 6 columns]"
      ]
     },
     "execution_count": 60,
     "metadata": {},
     "output_type": "execute_result"
    }
   ],
   "source": [
    "jobs_df"
   ]
  },
  {
   "cell_type": "code",
   "execution_count": null,
   "id": "4e1c09db",
   "metadata": {},
   "outputs": [],
   "source": []
  }
 ],
 "metadata": {
  "kernelspec": {
   "display_name": "Python 3 (ipykernel)",
   "language": "python",
   "name": "python3"
  },
  "language_info": {
   "codemirror_mode": {
    "name": "ipython",
    "version": 3
   },
   "file_extension": ".py",
   "mimetype": "text/x-python",
   "name": "python",
   "nbconvert_exporter": "python",
   "pygments_lexer": "ipython3",
   "version": "3.11.7"
  }
 },
 "nbformat": 4,
 "nbformat_minor": 5
}
